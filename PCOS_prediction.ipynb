{
  "nbformat": 4,
  "nbformat_minor": 0,
  "metadata": {
    "colab": {
      "provenance": [],
      "include_colab_link": true
    },
    "kernelspec": {
      "name": "python3",
      "display_name": "Python 3"
    },
    "language_info": {
      "name": "python"
    }
  },
  "cells": [
    {
      "cell_type": "markdown",
      "metadata": {
        "id": "view-in-github",
        "colab_type": "text"
      },
      "source": [
        "<a href=\"https://colab.research.google.com/github/Drishty06/PCOS-Sakhi/blob/main/PCOS_prediction.ipynb\" target=\"_parent\"><img src=\"https://colab.research.google.com/assets/colab-badge.svg\" alt=\"Open In Colab\"/></a>"
      ]
    },
    {
      "cell_type": "markdown",
      "source": [
        "# **PCOS prediction**\n"
      ],
      "metadata": {
        "id": "FY0qFMxMSvVg"
      }
    },
    {
      "cell_type": "markdown",
      "source": [
        "### import libraries\n"
      ],
      "metadata": {
        "id": "iG1V7kFEXQ7i"
      }
    },
    {
      "cell_type": "code",
      "execution_count": null,
      "metadata": {
        "id": "B5MJvzt8RDqT"
      },
      "outputs": [],
      "source": [
        "import pandas as pd\n",
        "import numpy as np\n",
        "import matplotlib.pyplot as plt\n",
        "import seaborn as sns\n",
        "from sklearn.model_selection import train_test_split\n",
        "from sklearn.ensemble import RandomForestClassifier\n",
        "from sklearn.metrics import accuracy_score\n",
        "from sklearn.model_selection import cross_val_score\n",
        "from sklearn.model_selection import GridSearchCV\n",
        "from sklearn.metrics import confusion_matrix\n",
        "from sklearn.metrics import classification_report\n"
      ]
    },
    {
      "cell_type": "markdown",
      "source": [
        "### loaded the csv file (local file)\n"
      ],
      "metadata": {
        "id": "NE1P5FCYXmuE"
      }
    },
    {
      "cell_type": "code",
      "source": [
        "from google.colab import files\n",
        "data_to_load = files.upload()\n"
      ],
      "metadata": {
        "colab": {
          "base_uri": "https://localhost:8080/",
          "height": 38
        },
        "id": "iiR2rsoxTNlg",
        "outputId": "9eeb3366-2c60-4d70-dec1-9963b11b0c38"
      },
      "execution_count": null,
      "outputs": [
        {
          "output_type": "display_data",
          "data": {
            "text/plain": [
              "<IPython.core.display.HTML object>"
            ],
            "text/html": [
              "\n",
              "     <input type=\"file\" id=\"files-74717614-f86f-447d-9b30-4b938f4f103b\" name=\"files[]\" multiple disabled\n",
              "        style=\"border:none\" />\n",
              "     <output id=\"result-74717614-f86f-447d-9b30-4b938f4f103b\">\n",
              "      Upload widget is only available when the cell has been executed in the\n",
              "      current browser session. Please rerun this cell to enable.\n",
              "      </output>\n",
              "      <script>// Copyright 2017 Google LLC\n",
              "//\n",
              "// Licensed under the Apache License, Version 2.0 (the \"License\");\n",
              "// you may not use this file except in compliance with the License.\n",
              "// You may obtain a copy of the License at\n",
              "//\n",
              "//      http://www.apache.org/licenses/LICENSE-2.0\n",
              "//\n",
              "// Unless required by applicable law or agreed to in writing, software\n",
              "// distributed under the License is distributed on an \"AS IS\" BASIS,\n",
              "// WITHOUT WARRANTIES OR CONDITIONS OF ANY KIND, either express or implied.\n",
              "// See the License for the specific language governing permissions and\n",
              "// limitations under the License.\n",
              "\n",
              "/**\n",
              " * @fileoverview Helpers for google.colab Python module.\n",
              " */\n",
              "(function(scope) {\n",
              "function span(text, styleAttributes = {}) {\n",
              "  const element = document.createElement('span');\n",
              "  element.textContent = text;\n",
              "  for (const key of Object.keys(styleAttributes)) {\n",
              "    element.style[key] = styleAttributes[key];\n",
              "  }\n",
              "  return element;\n",
              "}\n",
              "\n",
              "// Max number of bytes which will be uploaded at a time.\n",
              "const MAX_PAYLOAD_SIZE = 100 * 1024;\n",
              "\n",
              "function _uploadFiles(inputId, outputId) {\n",
              "  const steps = uploadFilesStep(inputId, outputId);\n",
              "  const outputElement = document.getElementById(outputId);\n",
              "  // Cache steps on the outputElement to make it available for the next call\n",
              "  // to uploadFilesContinue from Python.\n",
              "  outputElement.steps = steps;\n",
              "\n",
              "  return _uploadFilesContinue(outputId);\n",
              "}\n",
              "\n",
              "// This is roughly an async generator (not supported in the browser yet),\n",
              "// where there are multiple asynchronous steps and the Python side is going\n",
              "// to poll for completion of each step.\n",
              "// This uses a Promise to block the python side on completion of each step,\n",
              "// then passes the result of the previous step as the input to the next step.\n",
              "function _uploadFilesContinue(outputId) {\n",
              "  const outputElement = document.getElementById(outputId);\n",
              "  const steps = outputElement.steps;\n",
              "\n",
              "  const next = steps.next(outputElement.lastPromiseValue);\n",
              "  return Promise.resolve(next.value.promise).then((value) => {\n",
              "    // Cache the last promise value to make it available to the next\n",
              "    // step of the generator.\n",
              "    outputElement.lastPromiseValue = value;\n",
              "    return next.value.response;\n",
              "  });\n",
              "}\n",
              "\n",
              "/**\n",
              " * Generator function which is called between each async step of the upload\n",
              " * process.\n",
              " * @param {string} inputId Element ID of the input file picker element.\n",
              " * @param {string} outputId Element ID of the output display.\n",
              " * @return {!Iterable<!Object>} Iterable of next steps.\n",
              " */\n",
              "function* uploadFilesStep(inputId, outputId) {\n",
              "  const inputElement = document.getElementById(inputId);\n",
              "  inputElement.disabled = false;\n",
              "\n",
              "  const outputElement = document.getElementById(outputId);\n",
              "  outputElement.innerHTML = '';\n",
              "\n",
              "  const pickedPromise = new Promise((resolve) => {\n",
              "    inputElement.addEventListener('change', (e) => {\n",
              "      resolve(e.target.files);\n",
              "    });\n",
              "  });\n",
              "\n",
              "  const cancel = document.createElement('button');\n",
              "  inputElement.parentElement.appendChild(cancel);\n",
              "  cancel.textContent = 'Cancel upload';\n",
              "  const cancelPromise = new Promise((resolve) => {\n",
              "    cancel.onclick = () => {\n",
              "      resolve(null);\n",
              "    };\n",
              "  });\n",
              "\n",
              "  // Wait for the user to pick the files.\n",
              "  const files = yield {\n",
              "    promise: Promise.race([pickedPromise, cancelPromise]),\n",
              "    response: {\n",
              "      action: 'starting',\n",
              "    }\n",
              "  };\n",
              "\n",
              "  cancel.remove();\n",
              "\n",
              "  // Disable the input element since further picks are not allowed.\n",
              "  inputElement.disabled = true;\n",
              "\n",
              "  if (!files) {\n",
              "    return {\n",
              "      response: {\n",
              "        action: 'complete',\n",
              "      }\n",
              "    };\n",
              "  }\n",
              "\n",
              "  for (const file of files) {\n",
              "    const li = document.createElement('li');\n",
              "    li.append(span(file.name, {fontWeight: 'bold'}));\n",
              "    li.append(span(\n",
              "        `(${file.type || 'n/a'}) - ${file.size} bytes, ` +\n",
              "        `last modified: ${\n",
              "            file.lastModifiedDate ? file.lastModifiedDate.toLocaleDateString() :\n",
              "                                    'n/a'} - `));\n",
              "    const percent = span('0% done');\n",
              "    li.appendChild(percent);\n",
              "\n",
              "    outputElement.appendChild(li);\n",
              "\n",
              "    const fileDataPromise = new Promise((resolve) => {\n",
              "      const reader = new FileReader();\n",
              "      reader.onload = (e) => {\n",
              "        resolve(e.target.result);\n",
              "      };\n",
              "      reader.readAsArrayBuffer(file);\n",
              "    });\n",
              "    // Wait for the data to be ready.\n",
              "    let fileData = yield {\n",
              "      promise: fileDataPromise,\n",
              "      response: {\n",
              "        action: 'continue',\n",
              "      }\n",
              "    };\n",
              "\n",
              "    // Use a chunked sending to avoid message size limits. See b/62115660.\n",
              "    let position = 0;\n",
              "    do {\n",
              "      const length = Math.min(fileData.byteLength - position, MAX_PAYLOAD_SIZE);\n",
              "      const chunk = new Uint8Array(fileData, position, length);\n",
              "      position += length;\n",
              "\n",
              "      const base64 = btoa(String.fromCharCode.apply(null, chunk));\n",
              "      yield {\n",
              "        response: {\n",
              "          action: 'append',\n",
              "          file: file.name,\n",
              "          data: base64,\n",
              "        },\n",
              "      };\n",
              "\n",
              "      let percentDone = fileData.byteLength === 0 ?\n",
              "          100 :\n",
              "          Math.round((position / fileData.byteLength) * 100);\n",
              "      percent.textContent = `${percentDone}% done`;\n",
              "\n",
              "    } while (position < fileData.byteLength);\n",
              "  }\n",
              "\n",
              "  // All done.\n",
              "  yield {\n",
              "    response: {\n",
              "      action: 'complete',\n",
              "    }\n",
              "  };\n",
              "}\n",
              "\n",
              "scope.google = scope.google || {};\n",
              "scope.google.colab = scope.google.colab || {};\n",
              "scope.google.colab._files = {\n",
              "  _uploadFiles,\n",
              "  _uploadFilesContinue,\n",
              "};\n",
              "})(self);\n",
              "</script> "
            ]
          },
          "metadata": {}
        }
      ]
    },
    {
      "cell_type": "markdown",
      "source": [
        "### mounted google drive"
      ],
      "metadata": {
        "id": "gJ4b1w-vVEJ5"
      }
    },
    {
      "cell_type": "code",
      "source": [
        "from google.colab import drive\n",
        "drive.mount('/content/drive')"
      ],
      "metadata": {
        "colab": {
          "base_uri": "https://localhost:8080/"
        },
        "id": "QPitB53lTCbX",
        "outputId": "d9d47a50-4882-4aff-fe1a-ca39e403376f"
      },
      "execution_count": null,
      "outputs": [
        {
          "output_type": "stream",
          "name": "stdout",
          "text": [
            "Mounted at /content/drive\n"
          ]
        }
      ]
    },
    {
      "cell_type": "code",
      "source": [
        "df = pd.read_csv(\"/content/drive/MyDrive/Colab Notebooks/pcos.csv\")\n",
        "\n",
        "file_path_with_infertility=\"/content/drive/MyDrive/Colab Notebooks/PCOS_infertility.csv\"\n",
        "file_path_without_infertility=\"/content/drive/MyDrive/Colab Notebooks/PCOS_data_without_infertility.xlsx\"\n",
        "\n",
        "PCOS_inf = pd.read_csv(file_path_with_infertility)\n",
        "PCOS_woinf = pd.read_excel(file_path_without_infertility, sheet_name=\"Full_new\")"
      ],
      "metadata": {
        "id": "Kwq0BJCkWHdj"
      },
      "execution_count": null,
      "outputs": []
    },
    {
      "cell_type": "code",
      "source": [
        "#Merging the two files as per patient file no. \n",
        "#The files were sorted into two based on patients with infertility and without infertility\n",
        "data = pd.merge(PCOS_woinf,PCOS_inf, on='Patient File No.', suffixes={'','_y'},how='left')\n",
        "\n",
        "#Dropping the repeated features after merging\n",
        "data =data.drop(['Unnamed: 44', 'Sl. No_y', 'PCOS (Y/N)_y', '  I   beta-HCG(mIU/mL)_y',\n",
        "       'II    beta-HCG(mIU/mL)_y', 'AMH(ng/mL)_y'], axis=1)\n",
        "\n",
        "#Taking a look at the dataset\n",
        "data.head()"
      ],
      "metadata": {
        "colab": {
          "base_uri": "https://localhost:8080/",
          "height": 405
        },
        "id": "7FUN6ixDX2Lr",
        "outputId": "4bd2002b-ef18-4c2a-d6ad-49cfc9e1a6d1"
      },
      "execution_count": null,
      "outputs": [
        {
          "output_type": "stream",
          "name": "stderr",
          "text": [
            "<ipython-input-16-c04b56d1bfcc>:3: FutureWarning: Passing 'suffixes' as a <class 'set'>, is not supported and may give unexpected results. Provide 'suffixes' as a tuple instead. In the future a 'TypeError' will be raised.\n",
            "  df = pd.merge(PCOS_woinf,PCOS_inf, on='Patient File No.', suffixes={'','_y'},how='left')\n"
          ]
        },
        {
          "output_type": "execute_result",
          "data": {
            "text/plain": [
              "   Sl. No  Patient File No.  PCOS (Y/N)   Age (yrs)  Weight (Kg)  Height(Cm)   \\\n",
              "0     1.0               1.0         0.0        28.0         44.6        152.0   \n",
              "1     2.0               2.0         0.0        36.0         65.0        161.5   \n",
              "2     3.0               3.0         1.0        33.0         68.8        165.0   \n",
              "3     4.0               4.0         0.0        37.0         65.0        148.0   \n",
              "4     5.0               5.0         0.0        25.0         52.0        161.0   \n",
              "\n",
              "         BMI  Blood Group  Pulse rate(bpm)   RR (breaths/min)  ...  \\\n",
              "0  19.300000         15.0              78.0              22.0  ...   \n",
              "1  24.921163         15.0              74.0              20.0  ...   \n",
              "2  25.270891         11.0              72.0              18.0  ...   \n",
              "3  29.674945         13.0              72.0              20.0  ...   \n",
              "4  20.060954         11.0              72.0              18.0  ...   \n",
              "\n",
              "   Pimples(Y/N)  Fast food (Y/N)  Reg.Exercise(Y/N)  BP _Systolic (mmHg)  \\\n",
              "0           0.0              1.0                0.0                110.0   \n",
              "1           0.0              0.0                0.0                120.0   \n",
              "2           1.0              1.0                0.0                120.0   \n",
              "3           0.0              0.0                0.0                120.0   \n",
              "4           0.0              0.0                0.0                120.0   \n",
              "\n",
              "   BP _Diastolic (mmHg)  Follicle No. (L)  Follicle No. (R)  \\\n",
              "0                  80.0               3.0               3.0   \n",
              "1                  70.0               3.0               5.0   \n",
              "2                  80.0              13.0              15.0   \n",
              "3                  70.0               2.0               2.0   \n",
              "4                  80.0               3.0               4.0   \n",
              "\n",
              "  Avg. F size (L) (mm)  Avg. F size (R) (mm)  Endometrium (mm)  \n",
              "0                 18.0                  18.0               8.5  \n",
              "1                 15.0                  14.0               3.7  \n",
              "2                 18.0                  20.0              10.0  \n",
              "3                 15.0                  14.0               7.5  \n",
              "4                 16.0                  14.0               7.0  \n",
              "\n",
              "[5 rows x 44 columns]"
            ],
            "text/html": [
              "\n",
              "  <div id=\"df-2802f8fe-db68-482c-ad27-2692caa213e5\">\n",
              "    <div class=\"colab-df-container\">\n",
              "      <div>\n",
              "<style scoped>\n",
              "    .dataframe tbody tr th:only-of-type {\n",
              "        vertical-align: middle;\n",
              "    }\n",
              "\n",
              "    .dataframe tbody tr th {\n",
              "        vertical-align: top;\n",
              "    }\n",
              "\n",
              "    .dataframe thead th {\n",
              "        text-align: right;\n",
              "    }\n",
              "</style>\n",
              "<table border=\"1\" class=\"dataframe\">\n",
              "  <thead>\n",
              "    <tr style=\"text-align: right;\">\n",
              "      <th></th>\n",
              "      <th>Sl. No</th>\n",
              "      <th>Patient File No.</th>\n",
              "      <th>PCOS (Y/N)</th>\n",
              "      <th>Age (yrs)</th>\n",
              "      <th>Weight (Kg)</th>\n",
              "      <th>Height(Cm)</th>\n",
              "      <th>BMI</th>\n",
              "      <th>Blood Group</th>\n",
              "      <th>Pulse rate(bpm)</th>\n",
              "      <th>RR (breaths/min)</th>\n",
              "      <th>...</th>\n",
              "      <th>Pimples(Y/N)</th>\n",
              "      <th>Fast food (Y/N)</th>\n",
              "      <th>Reg.Exercise(Y/N)</th>\n",
              "      <th>BP _Systolic (mmHg)</th>\n",
              "      <th>BP _Diastolic (mmHg)</th>\n",
              "      <th>Follicle No. (L)</th>\n",
              "      <th>Follicle No. (R)</th>\n",
              "      <th>Avg. F size (L) (mm)</th>\n",
              "      <th>Avg. F size (R) (mm)</th>\n",
              "      <th>Endometrium (mm)</th>\n",
              "    </tr>\n",
              "  </thead>\n",
              "  <tbody>\n",
              "    <tr>\n",
              "      <th>0</th>\n",
              "      <td>1.0</td>\n",
              "      <td>1.0</td>\n",
              "      <td>0.0</td>\n",
              "      <td>28.0</td>\n",
              "      <td>44.6</td>\n",
              "      <td>152.0</td>\n",
              "      <td>19.300000</td>\n",
              "      <td>15.0</td>\n",
              "      <td>78.0</td>\n",
              "      <td>22.0</td>\n",
              "      <td>...</td>\n",
              "      <td>0.0</td>\n",
              "      <td>1.0</td>\n",
              "      <td>0.0</td>\n",
              "      <td>110.0</td>\n",
              "      <td>80.0</td>\n",
              "      <td>3.0</td>\n",
              "      <td>3.0</td>\n",
              "      <td>18.0</td>\n",
              "      <td>18.0</td>\n",
              "      <td>8.5</td>\n",
              "    </tr>\n",
              "    <tr>\n",
              "      <th>1</th>\n",
              "      <td>2.0</td>\n",
              "      <td>2.0</td>\n",
              "      <td>0.0</td>\n",
              "      <td>36.0</td>\n",
              "      <td>65.0</td>\n",
              "      <td>161.5</td>\n",
              "      <td>24.921163</td>\n",
              "      <td>15.0</td>\n",
              "      <td>74.0</td>\n",
              "      <td>20.0</td>\n",
              "      <td>...</td>\n",
              "      <td>0.0</td>\n",
              "      <td>0.0</td>\n",
              "      <td>0.0</td>\n",
              "      <td>120.0</td>\n",
              "      <td>70.0</td>\n",
              "      <td>3.0</td>\n",
              "      <td>5.0</td>\n",
              "      <td>15.0</td>\n",
              "      <td>14.0</td>\n",
              "      <td>3.7</td>\n",
              "    </tr>\n",
              "    <tr>\n",
              "      <th>2</th>\n",
              "      <td>3.0</td>\n",
              "      <td>3.0</td>\n",
              "      <td>1.0</td>\n",
              "      <td>33.0</td>\n",
              "      <td>68.8</td>\n",
              "      <td>165.0</td>\n",
              "      <td>25.270891</td>\n",
              "      <td>11.0</td>\n",
              "      <td>72.0</td>\n",
              "      <td>18.0</td>\n",
              "      <td>...</td>\n",
              "      <td>1.0</td>\n",
              "      <td>1.0</td>\n",
              "      <td>0.0</td>\n",
              "      <td>120.0</td>\n",
              "      <td>80.0</td>\n",
              "      <td>13.0</td>\n",
              "      <td>15.0</td>\n",
              "      <td>18.0</td>\n",
              "      <td>20.0</td>\n",
              "      <td>10.0</td>\n",
              "    </tr>\n",
              "    <tr>\n",
              "      <th>3</th>\n",
              "      <td>4.0</td>\n",
              "      <td>4.0</td>\n",
              "      <td>0.0</td>\n",
              "      <td>37.0</td>\n",
              "      <td>65.0</td>\n",
              "      <td>148.0</td>\n",
              "      <td>29.674945</td>\n",
              "      <td>13.0</td>\n",
              "      <td>72.0</td>\n",
              "      <td>20.0</td>\n",
              "      <td>...</td>\n",
              "      <td>0.0</td>\n",
              "      <td>0.0</td>\n",
              "      <td>0.0</td>\n",
              "      <td>120.0</td>\n",
              "      <td>70.0</td>\n",
              "      <td>2.0</td>\n",
              "      <td>2.0</td>\n",
              "      <td>15.0</td>\n",
              "      <td>14.0</td>\n",
              "      <td>7.5</td>\n",
              "    </tr>\n",
              "    <tr>\n",
              "      <th>4</th>\n",
              "      <td>5.0</td>\n",
              "      <td>5.0</td>\n",
              "      <td>0.0</td>\n",
              "      <td>25.0</td>\n",
              "      <td>52.0</td>\n",
              "      <td>161.0</td>\n",
              "      <td>20.060954</td>\n",
              "      <td>11.0</td>\n",
              "      <td>72.0</td>\n",
              "      <td>18.0</td>\n",
              "      <td>...</td>\n",
              "      <td>0.0</td>\n",
              "      <td>0.0</td>\n",
              "      <td>0.0</td>\n",
              "      <td>120.0</td>\n",
              "      <td>80.0</td>\n",
              "      <td>3.0</td>\n",
              "      <td>4.0</td>\n",
              "      <td>16.0</td>\n",
              "      <td>14.0</td>\n",
              "      <td>7.0</td>\n",
              "    </tr>\n",
              "  </tbody>\n",
              "</table>\n",
              "<p>5 rows × 44 columns</p>\n",
              "</div>\n",
              "      <button class=\"colab-df-convert\" onclick=\"convertToInteractive('df-2802f8fe-db68-482c-ad27-2692caa213e5')\"\n",
              "              title=\"Convert this dataframe to an interactive table.\"\n",
              "              style=\"display:none;\">\n",
              "        \n",
              "  <svg xmlns=\"http://www.w3.org/2000/svg\" height=\"24px\"viewBox=\"0 0 24 24\"\n",
              "       width=\"24px\">\n",
              "    <path d=\"M0 0h24v24H0V0z\" fill=\"none\"/>\n",
              "    <path d=\"M18.56 5.44l.94 2.06.94-2.06 2.06-.94-2.06-.94-.94-2.06-.94 2.06-2.06.94zm-11 1L8.5 8.5l.94-2.06 2.06-.94-2.06-.94L8.5 2.5l-.94 2.06-2.06.94zm10 10l.94 2.06.94-2.06 2.06-.94-2.06-.94-.94-2.06-.94 2.06-2.06.94z\"/><path d=\"M17.41 7.96l-1.37-1.37c-.4-.4-.92-.59-1.43-.59-.52 0-1.04.2-1.43.59L10.3 9.45l-7.72 7.72c-.78.78-.78 2.05 0 2.83L4 21.41c.39.39.9.59 1.41.59.51 0 1.02-.2 1.41-.59l7.78-7.78 2.81-2.81c.8-.78.8-2.07 0-2.86zM5.41 20L4 18.59l7.72-7.72 1.47 1.35L5.41 20z\"/>\n",
              "  </svg>\n",
              "      </button>\n",
              "      \n",
              "  <style>\n",
              "    .colab-df-container {\n",
              "      display:flex;\n",
              "      flex-wrap:wrap;\n",
              "      gap: 12px;\n",
              "    }\n",
              "\n",
              "    .colab-df-convert {\n",
              "      background-color: #E8F0FE;\n",
              "      border: none;\n",
              "      border-radius: 50%;\n",
              "      cursor: pointer;\n",
              "      display: none;\n",
              "      fill: #1967D2;\n",
              "      height: 32px;\n",
              "      padding: 0 0 0 0;\n",
              "      width: 32px;\n",
              "    }\n",
              "\n",
              "    .colab-df-convert:hover {\n",
              "      background-color: #E2EBFA;\n",
              "      box-shadow: 0px 1px 2px rgba(60, 64, 67, 0.3), 0px 1px 3px 1px rgba(60, 64, 67, 0.15);\n",
              "      fill: #174EA6;\n",
              "    }\n",
              "\n",
              "    [theme=dark] .colab-df-convert {\n",
              "      background-color: #3B4455;\n",
              "      fill: #D2E3FC;\n",
              "    }\n",
              "\n",
              "    [theme=dark] .colab-df-convert:hover {\n",
              "      background-color: #434B5C;\n",
              "      box-shadow: 0px 1px 3px 1px rgba(0, 0, 0, 0.15);\n",
              "      filter: drop-shadow(0px 1px 2px rgba(0, 0, 0, 0.3));\n",
              "      fill: #FFFFFF;\n",
              "    }\n",
              "  </style>\n",
              "\n",
              "      <script>\n",
              "        const buttonEl =\n",
              "          document.querySelector('#df-2802f8fe-db68-482c-ad27-2692caa213e5 button.colab-df-convert');\n",
              "        buttonEl.style.display =\n",
              "          google.colab.kernel.accessAllowed ? 'block' : 'none';\n",
              "\n",
              "        async function convertToInteractive(key) {\n",
              "          const element = document.querySelector('#df-2802f8fe-db68-482c-ad27-2692caa213e5');\n",
              "          const dataTable =\n",
              "            await google.colab.kernel.invokeFunction('convertToInteractive',\n",
              "                                                     [key], {});\n",
              "          if (!dataTable) return;\n",
              "\n",
              "          const docLinkHtml = 'Like what you see? Visit the ' +\n",
              "            '<a target=\"_blank\" href=https://colab.research.google.com/notebooks/data_table.ipynb>data table notebook</a>'\n",
              "            + ' to learn more about interactive tables.';\n",
              "          element.innerHTML = '';\n",
              "          dataTable['output_type'] = 'display_data';\n",
              "          await google.colab.output.renderOutput(dataTable, element);\n",
              "          const docLink = document.createElement('div');\n",
              "          docLink.innerHTML = docLinkHtml;\n",
              "          element.appendChild(docLink);\n",
              "        }\n",
              "      </script>\n",
              "    </div>\n",
              "  </div>\n",
              "  "
            ]
          },
          "metadata": {},
          "execution_count": 16
        }
      ]
    },
    {
      "cell_type": "code",
      "source": [
        "df.head(10)"
      ],
      "metadata": {
        "id": "MlTC4wkFW3Xh",
        "colab": {
          "base_uri": "https://localhost:8080/",
          "height": 491
        },
        "outputId": "b27e0d50-1e9f-484b-baba-f9f78f2db62b"
      },
      "execution_count": null,
      "outputs": [
        {
          "output_type": "execute_result",
          "data": {
            "text/plain": [
              "   Sl No  Patient File No  PCOS (Y/N)   Age (yrs)  Pregnant(Y/N)  \\\n",
              "0      1            10001           0          28              0   \n",
              "1      2            10002           0          36              1   \n",
              "2      3            10003           1          33              1   \n",
              "3      4            10004           0          37              0   \n",
              "4      5            10005           0          25              1   \n",
              "5      6            10006           0          36              1   \n",
              "6      7            10007           0          34              0   \n",
              "7      8            10008           0          33              1   \n",
              "8      9            10009           0          32              0   \n",
              "9     10            10010           0          36              0   \n",
              "\n",
              "   No of aborptions  Bloated  facial hair  chest hair  \\\n",
              "0                 0        0            0           0   \n",
              "1                 0        0            0           0   \n",
              "2                 0        1            1           1   \n",
              "3                 0        0            0           0   \n",
              "4                 0        0            0           0   \n",
              "5                 0        0            0           0   \n",
              "6                 0        0            0           0   \n",
              "7                 2        0            0           0   \n",
              "8                 1        0            0           0   \n",
              "9                 0        0            0           0   \n",
              "\n",
              "   difficult to loose weight  ...  Height(Cm)         BMI  Blood Group  \\\n",
              "0                          0  ...        152.0  19.300000           15   \n",
              "1                          0  ...        161.5  24.921163           15   \n",
              "2                          1  ...        165.0  25.270891           11   \n",
              "3                          0  ...        148.0  29.674945           13   \n",
              "4                          0  ...        161.0  20.060954           11   \n",
              "5                          0  ...        165.0  27.217631           15   \n",
              "6                          0  ...        156.0  26.298488           11   \n",
              "7                          0  ...        159.0  23.139907           13   \n",
              "8                          0  ...        158.0  16.023073           11   \n",
              "9                          0  ...        150.0  23.111111           15   \n",
              "\n",
              "   Pulse rate(bpm)   Cycle(months)  Cycle length(days)  Marriage Status (Yrs)  \\\n",
              "0                78              1                   5                    7.0   \n",
              "1                74              1                   5                   11.0   \n",
              "2                72              2                   5                   10.0   \n",
              "3                72              1                   5                    4.0   \n",
              "4                72              1                   5                    1.0   \n",
              "5                78              1                   5                    8.0   \n",
              "6                72              1                   5                    2.0   \n",
              "7                72              1                   5                   13.0   \n",
              "8                72              1                   5                    8.0   \n",
              "9                80              1                   2                    4.0   \n",
              "\n",
              "   Hip(inch)  Waist(inch)  Waist/Hip Ratio  \n",
              "0         36           30         0.833333  \n",
              "1         38           32         0.842105  \n",
              "2         40           36         0.900000  \n",
              "3         42           36         0.857143  \n",
              "4         37           30         0.810811  \n",
              "5         44           38         0.863636  \n",
              "6         39           33         0.846154  \n",
              "7         44           38         0.863636  \n",
              "8         39           35         0.897436  \n",
              "9         40           38         0.950000  \n",
              "\n",
              "[10 rows x 31 columns]"
            ],
            "text/html": [
              "\n",
              "  <div id=\"df-c6edc818-3f11-4990-a73c-2269d788eee5\">\n",
              "    <div class=\"colab-df-container\">\n",
              "      <div>\n",
              "<style scoped>\n",
              "    .dataframe tbody tr th:only-of-type {\n",
              "        vertical-align: middle;\n",
              "    }\n",
              "\n",
              "    .dataframe tbody tr th {\n",
              "        vertical-align: top;\n",
              "    }\n",
              "\n",
              "    .dataframe thead th {\n",
              "        text-align: right;\n",
              "    }\n",
              "</style>\n",
              "<table border=\"1\" class=\"dataframe\">\n",
              "  <thead>\n",
              "    <tr style=\"text-align: right;\">\n",
              "      <th></th>\n",
              "      <th>Sl No</th>\n",
              "      <th>Patient File No</th>\n",
              "      <th>PCOS (Y/N)</th>\n",
              "      <th>Age (yrs)</th>\n",
              "      <th>Pregnant(Y/N)</th>\n",
              "      <th>No of aborptions</th>\n",
              "      <th>Bloated</th>\n",
              "      <th>facial hair</th>\n",
              "      <th>chest hair</th>\n",
              "      <th>difficult to loose weight</th>\n",
              "      <th>...</th>\n",
              "      <th>Height(Cm)</th>\n",
              "      <th>BMI</th>\n",
              "      <th>Blood Group</th>\n",
              "      <th>Pulse rate(bpm)</th>\n",
              "      <th>Cycle(months)</th>\n",
              "      <th>Cycle length(days)</th>\n",
              "      <th>Marriage Status (Yrs)</th>\n",
              "      <th>Hip(inch)</th>\n",
              "      <th>Waist(inch)</th>\n",
              "      <th>Waist/Hip Ratio</th>\n",
              "    </tr>\n",
              "  </thead>\n",
              "  <tbody>\n",
              "    <tr>\n",
              "      <th>0</th>\n",
              "      <td>1</td>\n",
              "      <td>10001</td>\n",
              "      <td>0</td>\n",
              "      <td>28</td>\n",
              "      <td>0</td>\n",
              "      <td>0</td>\n",
              "      <td>0</td>\n",
              "      <td>0</td>\n",
              "      <td>0</td>\n",
              "      <td>0</td>\n",
              "      <td>...</td>\n",
              "      <td>152.0</td>\n",
              "      <td>19.300000</td>\n",
              "      <td>15</td>\n",
              "      <td>78</td>\n",
              "      <td>1</td>\n",
              "      <td>5</td>\n",
              "      <td>7.0</td>\n",
              "      <td>36</td>\n",
              "      <td>30</td>\n",
              "      <td>0.833333</td>\n",
              "    </tr>\n",
              "    <tr>\n",
              "      <th>1</th>\n",
              "      <td>2</td>\n",
              "      <td>10002</td>\n",
              "      <td>0</td>\n",
              "      <td>36</td>\n",
              "      <td>1</td>\n",
              "      <td>0</td>\n",
              "      <td>0</td>\n",
              "      <td>0</td>\n",
              "      <td>0</td>\n",
              "      <td>0</td>\n",
              "      <td>...</td>\n",
              "      <td>161.5</td>\n",
              "      <td>24.921163</td>\n",
              "      <td>15</td>\n",
              "      <td>74</td>\n",
              "      <td>1</td>\n",
              "      <td>5</td>\n",
              "      <td>11.0</td>\n",
              "      <td>38</td>\n",
              "      <td>32</td>\n",
              "      <td>0.842105</td>\n",
              "    </tr>\n",
              "    <tr>\n",
              "      <th>2</th>\n",
              "      <td>3</td>\n",
              "      <td>10003</td>\n",
              "      <td>1</td>\n",
              "      <td>33</td>\n",
              "      <td>1</td>\n",
              "      <td>0</td>\n",
              "      <td>1</td>\n",
              "      <td>1</td>\n",
              "      <td>1</td>\n",
              "      <td>1</td>\n",
              "      <td>...</td>\n",
              "      <td>165.0</td>\n",
              "      <td>25.270891</td>\n",
              "      <td>11</td>\n",
              "      <td>72</td>\n",
              "      <td>2</td>\n",
              "      <td>5</td>\n",
              "      <td>10.0</td>\n",
              "      <td>40</td>\n",
              "      <td>36</td>\n",
              "      <td>0.900000</td>\n",
              "    </tr>\n",
              "    <tr>\n",
              "      <th>3</th>\n",
              "      <td>4</td>\n",
              "      <td>10004</td>\n",
              "      <td>0</td>\n",
              "      <td>37</td>\n",
              "      <td>0</td>\n",
              "      <td>0</td>\n",
              "      <td>0</td>\n",
              "      <td>0</td>\n",
              "      <td>0</td>\n",
              "      <td>0</td>\n",
              "      <td>...</td>\n",
              "      <td>148.0</td>\n",
              "      <td>29.674945</td>\n",
              "      <td>13</td>\n",
              "      <td>72</td>\n",
              "      <td>1</td>\n",
              "      <td>5</td>\n",
              "      <td>4.0</td>\n",
              "      <td>42</td>\n",
              "      <td>36</td>\n",
              "      <td>0.857143</td>\n",
              "    </tr>\n",
              "    <tr>\n",
              "      <th>4</th>\n",
              "      <td>5</td>\n",
              "      <td>10005</td>\n",
              "      <td>0</td>\n",
              "      <td>25</td>\n",
              "      <td>1</td>\n",
              "      <td>0</td>\n",
              "      <td>0</td>\n",
              "      <td>0</td>\n",
              "      <td>0</td>\n",
              "      <td>0</td>\n",
              "      <td>...</td>\n",
              "      <td>161.0</td>\n",
              "      <td>20.060954</td>\n",
              "      <td>11</td>\n",
              "      <td>72</td>\n",
              "      <td>1</td>\n",
              "      <td>5</td>\n",
              "      <td>1.0</td>\n",
              "      <td>37</td>\n",
              "      <td>30</td>\n",
              "      <td>0.810811</td>\n",
              "    </tr>\n",
              "    <tr>\n",
              "      <th>5</th>\n",
              "      <td>6</td>\n",
              "      <td>10006</td>\n",
              "      <td>0</td>\n",
              "      <td>36</td>\n",
              "      <td>1</td>\n",
              "      <td>0</td>\n",
              "      <td>0</td>\n",
              "      <td>0</td>\n",
              "      <td>0</td>\n",
              "      <td>0</td>\n",
              "      <td>...</td>\n",
              "      <td>165.0</td>\n",
              "      <td>27.217631</td>\n",
              "      <td>15</td>\n",
              "      <td>78</td>\n",
              "      <td>1</td>\n",
              "      <td>5</td>\n",
              "      <td>8.0</td>\n",
              "      <td>44</td>\n",
              "      <td>38</td>\n",
              "      <td>0.863636</td>\n",
              "    </tr>\n",
              "    <tr>\n",
              "      <th>6</th>\n",
              "      <td>7</td>\n",
              "      <td>10007</td>\n",
              "      <td>0</td>\n",
              "      <td>34</td>\n",
              "      <td>0</td>\n",
              "      <td>0</td>\n",
              "      <td>0</td>\n",
              "      <td>0</td>\n",
              "      <td>0</td>\n",
              "      <td>0</td>\n",
              "      <td>...</td>\n",
              "      <td>156.0</td>\n",
              "      <td>26.298488</td>\n",
              "      <td>11</td>\n",
              "      <td>72</td>\n",
              "      <td>1</td>\n",
              "      <td>5</td>\n",
              "      <td>2.0</td>\n",
              "      <td>39</td>\n",
              "      <td>33</td>\n",
              "      <td>0.846154</td>\n",
              "    </tr>\n",
              "    <tr>\n",
              "      <th>7</th>\n",
              "      <td>8</td>\n",
              "      <td>10008</td>\n",
              "      <td>0</td>\n",
              "      <td>33</td>\n",
              "      <td>1</td>\n",
              "      <td>2</td>\n",
              "      <td>0</td>\n",
              "      <td>0</td>\n",
              "      <td>0</td>\n",
              "      <td>0</td>\n",
              "      <td>...</td>\n",
              "      <td>159.0</td>\n",
              "      <td>23.139907</td>\n",
              "      <td>13</td>\n",
              "      <td>72</td>\n",
              "      <td>1</td>\n",
              "      <td>5</td>\n",
              "      <td>13.0</td>\n",
              "      <td>44</td>\n",
              "      <td>38</td>\n",
              "      <td>0.863636</td>\n",
              "    </tr>\n",
              "    <tr>\n",
              "      <th>8</th>\n",
              "      <td>9</td>\n",
              "      <td>10009</td>\n",
              "      <td>0</td>\n",
              "      <td>32</td>\n",
              "      <td>0</td>\n",
              "      <td>1</td>\n",
              "      <td>0</td>\n",
              "      <td>0</td>\n",
              "      <td>0</td>\n",
              "      <td>0</td>\n",
              "      <td>...</td>\n",
              "      <td>158.0</td>\n",
              "      <td>16.023073</td>\n",
              "      <td>11</td>\n",
              "      <td>72</td>\n",
              "      <td>1</td>\n",
              "      <td>5</td>\n",
              "      <td>8.0</td>\n",
              "      <td>39</td>\n",
              "      <td>35</td>\n",
              "      <td>0.897436</td>\n",
              "    </tr>\n",
              "    <tr>\n",
              "      <th>9</th>\n",
              "      <td>10</td>\n",
              "      <td>10010</td>\n",
              "      <td>0</td>\n",
              "      <td>36</td>\n",
              "      <td>0</td>\n",
              "      <td>0</td>\n",
              "      <td>0</td>\n",
              "      <td>0</td>\n",
              "      <td>0</td>\n",
              "      <td>0</td>\n",
              "      <td>...</td>\n",
              "      <td>150.0</td>\n",
              "      <td>23.111111</td>\n",
              "      <td>15</td>\n",
              "      <td>80</td>\n",
              "      <td>1</td>\n",
              "      <td>2</td>\n",
              "      <td>4.0</td>\n",
              "      <td>40</td>\n",
              "      <td>38</td>\n",
              "      <td>0.950000</td>\n",
              "    </tr>\n",
              "  </tbody>\n",
              "</table>\n",
              "<p>10 rows × 31 columns</p>\n",
              "</div>\n",
              "      <button class=\"colab-df-convert\" onclick=\"convertToInteractive('df-c6edc818-3f11-4990-a73c-2269d788eee5')\"\n",
              "              title=\"Convert this dataframe to an interactive table.\"\n",
              "              style=\"display:none;\">\n",
              "        \n",
              "  <svg xmlns=\"http://www.w3.org/2000/svg\" height=\"24px\"viewBox=\"0 0 24 24\"\n",
              "       width=\"24px\">\n",
              "    <path d=\"M0 0h24v24H0V0z\" fill=\"none\"/>\n",
              "    <path d=\"M18.56 5.44l.94 2.06.94-2.06 2.06-.94-2.06-.94-.94-2.06-.94 2.06-2.06.94zm-11 1L8.5 8.5l.94-2.06 2.06-.94-2.06-.94L8.5 2.5l-.94 2.06-2.06.94zm10 10l.94 2.06.94-2.06 2.06-.94-2.06-.94-.94-2.06-.94 2.06-2.06.94z\"/><path d=\"M17.41 7.96l-1.37-1.37c-.4-.4-.92-.59-1.43-.59-.52 0-1.04.2-1.43.59L10.3 9.45l-7.72 7.72c-.78.78-.78 2.05 0 2.83L4 21.41c.39.39.9.59 1.41.59.51 0 1.02-.2 1.41-.59l7.78-7.78 2.81-2.81c.8-.78.8-2.07 0-2.86zM5.41 20L4 18.59l7.72-7.72 1.47 1.35L5.41 20z\"/>\n",
              "  </svg>\n",
              "      </button>\n",
              "      \n",
              "  <style>\n",
              "    .colab-df-container {\n",
              "      display:flex;\n",
              "      flex-wrap:wrap;\n",
              "      gap: 12px;\n",
              "    }\n",
              "\n",
              "    .colab-df-convert {\n",
              "      background-color: #E8F0FE;\n",
              "      border: none;\n",
              "      border-radius: 50%;\n",
              "      cursor: pointer;\n",
              "      display: none;\n",
              "      fill: #1967D2;\n",
              "      height: 32px;\n",
              "      padding: 0 0 0 0;\n",
              "      width: 32px;\n",
              "    }\n",
              "\n",
              "    .colab-df-convert:hover {\n",
              "      background-color: #E2EBFA;\n",
              "      box-shadow: 0px 1px 2px rgba(60, 64, 67, 0.3), 0px 1px 3px 1px rgba(60, 64, 67, 0.15);\n",
              "      fill: #174EA6;\n",
              "    }\n",
              "\n",
              "    [theme=dark] .colab-df-convert {\n",
              "      background-color: #3B4455;\n",
              "      fill: #D2E3FC;\n",
              "    }\n",
              "\n",
              "    [theme=dark] .colab-df-convert:hover {\n",
              "      background-color: #434B5C;\n",
              "      box-shadow: 0px 1px 3px 1px rgba(0, 0, 0, 0.15);\n",
              "      filter: drop-shadow(0px 1px 2px rgba(0, 0, 0, 0.3));\n",
              "      fill: #FFFFFF;\n",
              "    }\n",
              "  </style>\n",
              "\n",
              "      <script>\n",
              "        const buttonEl =\n",
              "          document.querySelector('#df-c6edc818-3f11-4990-a73c-2269d788eee5 button.colab-df-convert');\n",
              "        buttonEl.style.display =\n",
              "          google.colab.kernel.accessAllowed ? 'block' : 'none';\n",
              "\n",
              "        async function convertToInteractive(key) {\n",
              "          const element = document.querySelector('#df-c6edc818-3f11-4990-a73c-2269d788eee5');\n",
              "          const dataTable =\n",
              "            await google.colab.kernel.invokeFunction('convertToInteractive',\n",
              "                                                     [key], {});\n",
              "          if (!dataTable) return;\n",
              "\n",
              "          const docLinkHtml = 'Like what you see? Visit the ' +\n",
              "            '<a target=\"_blank\" href=https://colab.research.google.com/notebooks/data_table.ipynb>data table notebook</a>'\n",
              "            + ' to learn more about interactive tables.';\n",
              "          element.innerHTML = '';\n",
              "          dataTable['output_type'] = 'display_data';\n",
              "          await google.colab.output.renderOutput(dataTable, element);\n",
              "          const docLink = document.createElement('div');\n",
              "          docLink.innerHTML = docLinkHtml;\n",
              "          element.appendChild(docLink);\n",
              "        }\n",
              "      </script>\n",
              "    </div>\n",
              "  </div>\n",
              "  "
            ]
          },
          "metadata": {},
          "execution_count": 20
        }
      ]
    },
    {
      "cell_type": "code",
      "source": [
        "df.shape"
      ],
      "metadata": {
        "id": "UA5K33WR9zfS",
        "colab": {
          "base_uri": "https://localhost:8080/"
        },
        "outputId": "2745a656-a540-4d28-e56e-5e0476114a0e"
      },
      "execution_count": null,
      "outputs": [
        {
          "output_type": "execute_result",
          "data": {
            "text/plain": [
              "(541, 31)"
            ]
          },
          "metadata": {},
          "execution_count": 6
        }
      ]
    },
    {
      "cell_type": "markdown",
      "source": [
        "### info of dataset\n"
      ],
      "metadata": {
        "id": "9X14HWGsX5hD"
      }
    },
    {
      "cell_type": "code",
      "source": [
        "df.info()"
      ],
      "metadata": {
        "id": "U4KshY2AW-5l",
        "colab": {
          "base_uri": "https://localhost:8080/"
        },
        "outputId": "e530a7c9-cc80-46c4-c96e-d5198552f246"
      },
      "execution_count": null,
      "outputs": [
        {
          "output_type": "stream",
          "name": "stdout",
          "text": [
            "<class 'pandas.core.frame.DataFrame'>\n",
            "RangeIndex: 541 entries, 0 to 540\n",
            "Data columns (total 31 columns):\n",
            " #   Column                     Non-Null Count  Dtype  \n",
            "---  ------                     --------------  -----  \n",
            " 0   Sl No                      541 non-null    int64  \n",
            " 1   Patient File No            541 non-null    int64  \n",
            " 2   PCOS (Y/N)                 541 non-null    int64  \n",
            " 3    Age (yrs)                 541 non-null    int64  \n",
            " 4   Pregnant(Y/N)              541 non-null    int64  \n",
            " 5   No of aborptions           541 non-null    int64  \n",
            " 6   Bloated                    541 non-null    int64  \n",
            " 7   facial hair                541 non-null    int64  \n",
            " 8   chest hair                 541 non-null    int64  \n",
            " 9   difficult to loose weight  541 non-null    int64  \n",
            " 10  mood swings                541 non-null    int64  \n",
            " 11  anxiety/depression/stress  541 non-null    int64  \n",
            " 12  Irregular_sleep            541 non-null    int64  \n",
            " 13  Weight gain(Y/N)           541 non-null    int64  \n",
            " 14  hair growth(Y/N)           541 non-null    int64  \n",
            " 15  Skin darkening (Y/N)       541 non-null    int64  \n",
            " 16  Hair loss(Y/N)             541 non-null    int64  \n",
            " 17  Pimples(Y/N)               541 non-null    int64  \n",
            " 18  Fast food (Y/N)            541 non-null    int64  \n",
            " 19  Reg Exercise(Y/N)          541 non-null    int64  \n",
            " 20  Weight (Kg)                541 non-null    float64\n",
            " 21  Height(Cm)                 541 non-null    float64\n",
            " 22  BMI                        541 non-null    float64\n",
            " 23  Blood Group                541 non-null    int64  \n",
            " 24  Pulse rate(bpm)            541 non-null    int64  \n",
            " 25  Cycle(months)              541 non-null    int64  \n",
            " 26  Cycle length(days)         541 non-null    int64  \n",
            " 27  Marriage Status (Yrs)      541 non-null    float64\n",
            " 28  Hip(inch)                  541 non-null    int64  \n",
            " 29  Waist(inch)                541 non-null    int64  \n",
            " 30  Waist/Hip Ratio            541 non-null    float64\n",
            "dtypes: float64(5), int64(26)\n",
            "memory usage: 131.1 KB\n"
          ]
        }
      ]
    },
    {
      "cell_type": "code",
      "source": [
        "df.isnull().sum() # checking for null values"
      ],
      "metadata": {
        "id": "am7CsBsvYII8",
        "colab": {
          "base_uri": "https://localhost:8080/"
        },
        "outputId": "642fad53-11cc-4b0c-fdee-ecae76ee7606"
      },
      "execution_count": null,
      "outputs": [
        {
          "output_type": "execute_result",
          "data": {
            "text/plain": [
              "Sl No                        0\n",
              "Patient File No              0\n",
              "PCOS (Y/N)                   0\n",
              " Age (yrs)                   0\n",
              "Pregnant(Y/N)                0\n",
              "No of aborptions             0\n",
              "Bloated                      0\n",
              "facial hair                  0\n",
              "chest hair                   0\n",
              "difficult to loose weight    0\n",
              "mood swings                  0\n",
              "anxiety/depression/stress    0\n",
              "Irregular_sleep              0\n",
              "Weight gain(Y/N)             0\n",
              "hair growth(Y/N)             0\n",
              "Skin darkening (Y/N)         0\n",
              "Hair loss(Y/N)               0\n",
              "Pimples(Y/N)                 0\n",
              "Fast food (Y/N)              0\n",
              "Reg Exercise(Y/N)            0\n",
              "Weight (Kg)                  0\n",
              "Height(Cm)                   0\n",
              "BMI                          0\n",
              "Blood Group                  0\n",
              "Pulse rate(bpm)              0\n",
              "Cycle(months)                0\n",
              "Cycle length(days)           0\n",
              "Marriage Status (Yrs)        0\n",
              "Hip(inch)                    0\n",
              "Waist(inch)                  0\n",
              "Waist/Hip Ratio              0\n",
              "dtype: int64"
            ]
          },
          "metadata": {},
          "execution_count": 8
        }
      ]
    },
    {
      "cell_type": "code",
      "source": [
        "df.describe() #statistical data for each numerical column"
      ],
      "metadata": {
        "id": "uoVLSc4uYN7H",
        "colab": {
          "base_uri": "https://localhost:8080/",
          "height": 428
        },
        "outputId": "6170dbb1-e3f7-4db6-a2ef-0d5f1345c14f"
      },
      "execution_count": null,
      "outputs": [
        {
          "output_type": "execute_result",
          "data": {
            "text/plain": [
              "            Sl No  Patient File No  PCOS (Y/N)   Age (yrs)  Pregnant(Y/N)  \\\n",
              "count  541.000000       541.000000  541.000000  541.000000     541.000000   \n",
              "mean   271.000000     10271.000000    0.327172   31.430684       0.380776   \n",
              "std    156.317519       156.317519    0.469615    5.411006       0.486027   \n",
              "min      1.000000     10001.000000    0.000000   20.000000       0.000000   \n",
              "25%    136.000000     10136.000000    0.000000   28.000000       0.000000   \n",
              "50%    271.000000     10271.000000    0.000000   31.000000       0.000000   \n",
              "75%    406.000000     10406.000000    1.000000   35.000000       1.000000   \n",
              "max    541.000000     10541.000000    1.000000   48.000000       1.000000   \n",
              "\n",
              "       No of aborptions     Bloated  facial hair  chest hair  \\\n",
              "count        541.000000  541.000000   541.000000  541.000000   \n",
              "mean           0.288355    0.369686     0.321627    0.240296   \n",
              "std            0.692575    0.483166     0.467533    0.427658   \n",
              "min            0.000000    0.000000     0.000000    0.000000   \n",
              "25%            0.000000    0.000000     0.000000    0.000000   \n",
              "50%            0.000000    0.000000     0.000000    0.000000   \n",
              "75%            0.000000    1.000000     1.000000    0.000000   \n",
              "max            5.000000    1.000000     1.000000    1.000000   \n",
              "\n",
              "       difficult to loose weight  ...  Height(Cm)          BMI  Blood Group  \\\n",
              "count                 541.000000  ...   541.000000  541.000000   541.000000   \n",
              "mean                    0.380776  ...   156.484835   24.311285    13.802218   \n",
              "std                     0.486027  ...     6.033545    4.056399     1.840812   \n",
              "min                     0.000000  ...   137.000000   12.417882    11.000000   \n",
              "25%                     0.000000  ...   152.000000   21.641274    13.000000   \n",
              "50%                     0.000000  ...   156.000000   24.238227    14.000000   \n",
              "75%                     1.000000  ...   160.000000   26.634958    15.000000   \n",
              "max                     1.000000  ...   180.000000   38.900000    18.000000   \n",
              "\n",
              "       Pulse rate(bpm)   Cycle(months)  Cycle length(days)  \\\n",
              "count        541.000000     541.000000           541.00000   \n",
              "mean          73.247689       1.720887             4.94085   \n",
              "std            4.430285       1.135989             1.49202   \n",
              "min           13.000000       1.000000             0.00000   \n",
              "25%           72.000000       1.000000             4.00000   \n",
              "50%           72.000000       1.000000             5.00000   \n",
              "75%           74.000000       2.000000             5.00000   \n",
              "max           82.000000       5.000000            12.00000   \n",
              "\n",
              "       Marriage Status (Yrs)   Hip(inch)  Waist(inch)  Waist/Hip Ratio  \n",
              "count             541.000000  541.000000   541.000000       541.000000  \n",
              "mean                7.666728   37.992606    33.841035         0.891895  \n",
              "std                 4.810733    3.967920     3.596894         0.046326  \n",
              "min                 0.000000   26.000000    24.000000         0.755556  \n",
              "25%                 4.000000   36.000000    32.000000         0.857143  \n",
              "50%                 7.000000   38.000000    34.000000         0.894737  \n",
              "75%                10.000000   40.000000    36.000000         0.928571  \n",
              "max                30.000000   48.000000    47.000000         0.979167  \n",
              "\n",
              "[8 rows x 31 columns]"
            ],
            "text/html": [
              "\n",
              "  <div id=\"df-d47716cd-5589-48b7-8059-85e7d69a9c36\">\n",
              "    <div class=\"colab-df-container\">\n",
              "      <div>\n",
              "<style scoped>\n",
              "    .dataframe tbody tr th:only-of-type {\n",
              "        vertical-align: middle;\n",
              "    }\n",
              "\n",
              "    .dataframe tbody tr th {\n",
              "        vertical-align: top;\n",
              "    }\n",
              "\n",
              "    .dataframe thead th {\n",
              "        text-align: right;\n",
              "    }\n",
              "</style>\n",
              "<table border=\"1\" class=\"dataframe\">\n",
              "  <thead>\n",
              "    <tr style=\"text-align: right;\">\n",
              "      <th></th>\n",
              "      <th>Sl No</th>\n",
              "      <th>Patient File No</th>\n",
              "      <th>PCOS (Y/N)</th>\n",
              "      <th>Age (yrs)</th>\n",
              "      <th>Pregnant(Y/N)</th>\n",
              "      <th>No of aborptions</th>\n",
              "      <th>Bloated</th>\n",
              "      <th>facial hair</th>\n",
              "      <th>chest hair</th>\n",
              "      <th>difficult to loose weight</th>\n",
              "      <th>...</th>\n",
              "      <th>Height(Cm)</th>\n",
              "      <th>BMI</th>\n",
              "      <th>Blood Group</th>\n",
              "      <th>Pulse rate(bpm)</th>\n",
              "      <th>Cycle(months)</th>\n",
              "      <th>Cycle length(days)</th>\n",
              "      <th>Marriage Status (Yrs)</th>\n",
              "      <th>Hip(inch)</th>\n",
              "      <th>Waist(inch)</th>\n",
              "      <th>Waist/Hip Ratio</th>\n",
              "    </tr>\n",
              "  </thead>\n",
              "  <tbody>\n",
              "    <tr>\n",
              "      <th>count</th>\n",
              "      <td>541.000000</td>\n",
              "      <td>541.000000</td>\n",
              "      <td>541.000000</td>\n",
              "      <td>541.000000</td>\n",
              "      <td>541.000000</td>\n",
              "      <td>541.000000</td>\n",
              "      <td>541.000000</td>\n",
              "      <td>541.000000</td>\n",
              "      <td>541.000000</td>\n",
              "      <td>541.000000</td>\n",
              "      <td>...</td>\n",
              "      <td>541.000000</td>\n",
              "      <td>541.000000</td>\n",
              "      <td>541.000000</td>\n",
              "      <td>541.000000</td>\n",
              "      <td>541.000000</td>\n",
              "      <td>541.00000</td>\n",
              "      <td>541.000000</td>\n",
              "      <td>541.000000</td>\n",
              "      <td>541.000000</td>\n",
              "      <td>541.000000</td>\n",
              "    </tr>\n",
              "    <tr>\n",
              "      <th>mean</th>\n",
              "      <td>271.000000</td>\n",
              "      <td>10271.000000</td>\n",
              "      <td>0.327172</td>\n",
              "      <td>31.430684</td>\n",
              "      <td>0.380776</td>\n",
              "      <td>0.288355</td>\n",
              "      <td>0.369686</td>\n",
              "      <td>0.321627</td>\n",
              "      <td>0.240296</td>\n",
              "      <td>0.380776</td>\n",
              "      <td>...</td>\n",
              "      <td>156.484835</td>\n",
              "      <td>24.311285</td>\n",
              "      <td>13.802218</td>\n",
              "      <td>73.247689</td>\n",
              "      <td>1.720887</td>\n",
              "      <td>4.94085</td>\n",
              "      <td>7.666728</td>\n",
              "      <td>37.992606</td>\n",
              "      <td>33.841035</td>\n",
              "      <td>0.891895</td>\n",
              "    </tr>\n",
              "    <tr>\n",
              "      <th>std</th>\n",
              "      <td>156.317519</td>\n",
              "      <td>156.317519</td>\n",
              "      <td>0.469615</td>\n",
              "      <td>5.411006</td>\n",
              "      <td>0.486027</td>\n",
              "      <td>0.692575</td>\n",
              "      <td>0.483166</td>\n",
              "      <td>0.467533</td>\n",
              "      <td>0.427658</td>\n",
              "      <td>0.486027</td>\n",
              "      <td>...</td>\n",
              "      <td>6.033545</td>\n",
              "      <td>4.056399</td>\n",
              "      <td>1.840812</td>\n",
              "      <td>4.430285</td>\n",
              "      <td>1.135989</td>\n",
              "      <td>1.49202</td>\n",
              "      <td>4.810733</td>\n",
              "      <td>3.967920</td>\n",
              "      <td>3.596894</td>\n",
              "      <td>0.046326</td>\n",
              "    </tr>\n",
              "    <tr>\n",
              "      <th>min</th>\n",
              "      <td>1.000000</td>\n",
              "      <td>10001.000000</td>\n",
              "      <td>0.000000</td>\n",
              "      <td>20.000000</td>\n",
              "      <td>0.000000</td>\n",
              "      <td>0.000000</td>\n",
              "      <td>0.000000</td>\n",
              "      <td>0.000000</td>\n",
              "      <td>0.000000</td>\n",
              "      <td>0.000000</td>\n",
              "      <td>...</td>\n",
              "      <td>137.000000</td>\n",
              "      <td>12.417882</td>\n",
              "      <td>11.000000</td>\n",
              "      <td>13.000000</td>\n",
              "      <td>1.000000</td>\n",
              "      <td>0.00000</td>\n",
              "      <td>0.000000</td>\n",
              "      <td>26.000000</td>\n",
              "      <td>24.000000</td>\n",
              "      <td>0.755556</td>\n",
              "    </tr>\n",
              "    <tr>\n",
              "      <th>25%</th>\n",
              "      <td>136.000000</td>\n",
              "      <td>10136.000000</td>\n",
              "      <td>0.000000</td>\n",
              "      <td>28.000000</td>\n",
              "      <td>0.000000</td>\n",
              "      <td>0.000000</td>\n",
              "      <td>0.000000</td>\n",
              "      <td>0.000000</td>\n",
              "      <td>0.000000</td>\n",
              "      <td>0.000000</td>\n",
              "      <td>...</td>\n",
              "      <td>152.000000</td>\n",
              "      <td>21.641274</td>\n",
              "      <td>13.000000</td>\n",
              "      <td>72.000000</td>\n",
              "      <td>1.000000</td>\n",
              "      <td>4.00000</td>\n",
              "      <td>4.000000</td>\n",
              "      <td>36.000000</td>\n",
              "      <td>32.000000</td>\n",
              "      <td>0.857143</td>\n",
              "    </tr>\n",
              "    <tr>\n",
              "      <th>50%</th>\n",
              "      <td>271.000000</td>\n",
              "      <td>10271.000000</td>\n",
              "      <td>0.000000</td>\n",
              "      <td>31.000000</td>\n",
              "      <td>0.000000</td>\n",
              "      <td>0.000000</td>\n",
              "      <td>0.000000</td>\n",
              "      <td>0.000000</td>\n",
              "      <td>0.000000</td>\n",
              "      <td>0.000000</td>\n",
              "      <td>...</td>\n",
              "      <td>156.000000</td>\n",
              "      <td>24.238227</td>\n",
              "      <td>14.000000</td>\n",
              "      <td>72.000000</td>\n",
              "      <td>1.000000</td>\n",
              "      <td>5.00000</td>\n",
              "      <td>7.000000</td>\n",
              "      <td>38.000000</td>\n",
              "      <td>34.000000</td>\n",
              "      <td>0.894737</td>\n",
              "    </tr>\n",
              "    <tr>\n",
              "      <th>75%</th>\n",
              "      <td>406.000000</td>\n",
              "      <td>10406.000000</td>\n",
              "      <td>1.000000</td>\n",
              "      <td>35.000000</td>\n",
              "      <td>1.000000</td>\n",
              "      <td>0.000000</td>\n",
              "      <td>1.000000</td>\n",
              "      <td>1.000000</td>\n",
              "      <td>0.000000</td>\n",
              "      <td>1.000000</td>\n",
              "      <td>...</td>\n",
              "      <td>160.000000</td>\n",
              "      <td>26.634958</td>\n",
              "      <td>15.000000</td>\n",
              "      <td>74.000000</td>\n",
              "      <td>2.000000</td>\n",
              "      <td>5.00000</td>\n",
              "      <td>10.000000</td>\n",
              "      <td>40.000000</td>\n",
              "      <td>36.000000</td>\n",
              "      <td>0.928571</td>\n",
              "    </tr>\n",
              "    <tr>\n",
              "      <th>max</th>\n",
              "      <td>541.000000</td>\n",
              "      <td>10541.000000</td>\n",
              "      <td>1.000000</td>\n",
              "      <td>48.000000</td>\n",
              "      <td>1.000000</td>\n",
              "      <td>5.000000</td>\n",
              "      <td>1.000000</td>\n",
              "      <td>1.000000</td>\n",
              "      <td>1.000000</td>\n",
              "      <td>1.000000</td>\n",
              "      <td>...</td>\n",
              "      <td>180.000000</td>\n",
              "      <td>38.900000</td>\n",
              "      <td>18.000000</td>\n",
              "      <td>82.000000</td>\n",
              "      <td>5.000000</td>\n",
              "      <td>12.00000</td>\n",
              "      <td>30.000000</td>\n",
              "      <td>48.000000</td>\n",
              "      <td>47.000000</td>\n",
              "      <td>0.979167</td>\n",
              "    </tr>\n",
              "  </tbody>\n",
              "</table>\n",
              "<p>8 rows × 31 columns</p>\n",
              "</div>\n",
              "      <button class=\"colab-df-convert\" onclick=\"convertToInteractive('df-d47716cd-5589-48b7-8059-85e7d69a9c36')\"\n",
              "              title=\"Convert this dataframe to an interactive table.\"\n",
              "              style=\"display:none;\">\n",
              "        \n",
              "  <svg xmlns=\"http://www.w3.org/2000/svg\" height=\"24px\"viewBox=\"0 0 24 24\"\n",
              "       width=\"24px\">\n",
              "    <path d=\"M0 0h24v24H0V0z\" fill=\"none\"/>\n",
              "    <path d=\"M18.56 5.44l.94 2.06.94-2.06 2.06-.94-2.06-.94-.94-2.06-.94 2.06-2.06.94zm-11 1L8.5 8.5l.94-2.06 2.06-.94-2.06-.94L8.5 2.5l-.94 2.06-2.06.94zm10 10l.94 2.06.94-2.06 2.06-.94-2.06-.94-.94-2.06-.94 2.06-2.06.94z\"/><path d=\"M17.41 7.96l-1.37-1.37c-.4-.4-.92-.59-1.43-.59-.52 0-1.04.2-1.43.59L10.3 9.45l-7.72 7.72c-.78.78-.78 2.05 0 2.83L4 21.41c.39.39.9.59 1.41.59.51 0 1.02-.2 1.41-.59l7.78-7.78 2.81-2.81c.8-.78.8-2.07 0-2.86zM5.41 20L4 18.59l7.72-7.72 1.47 1.35L5.41 20z\"/>\n",
              "  </svg>\n",
              "      </button>\n",
              "      \n",
              "  <style>\n",
              "    .colab-df-container {\n",
              "      display:flex;\n",
              "      flex-wrap:wrap;\n",
              "      gap: 12px;\n",
              "    }\n",
              "\n",
              "    .colab-df-convert {\n",
              "      background-color: #E8F0FE;\n",
              "      border: none;\n",
              "      border-radius: 50%;\n",
              "      cursor: pointer;\n",
              "      display: none;\n",
              "      fill: #1967D2;\n",
              "      height: 32px;\n",
              "      padding: 0 0 0 0;\n",
              "      width: 32px;\n",
              "    }\n",
              "\n",
              "    .colab-df-convert:hover {\n",
              "      background-color: #E2EBFA;\n",
              "      box-shadow: 0px 1px 2px rgba(60, 64, 67, 0.3), 0px 1px 3px 1px rgba(60, 64, 67, 0.15);\n",
              "      fill: #174EA6;\n",
              "    }\n",
              "\n",
              "    [theme=dark] .colab-df-convert {\n",
              "      background-color: #3B4455;\n",
              "      fill: #D2E3FC;\n",
              "    }\n",
              "\n",
              "    [theme=dark] .colab-df-convert:hover {\n",
              "      background-color: #434B5C;\n",
              "      box-shadow: 0px 1px 3px 1px rgba(0, 0, 0, 0.15);\n",
              "      filter: drop-shadow(0px 1px 2px rgba(0, 0, 0, 0.3));\n",
              "      fill: #FFFFFF;\n",
              "    }\n",
              "  </style>\n",
              "\n",
              "      <script>\n",
              "        const buttonEl =\n",
              "          document.querySelector('#df-d47716cd-5589-48b7-8059-85e7d69a9c36 button.colab-df-convert');\n",
              "        buttonEl.style.display =\n",
              "          google.colab.kernel.accessAllowed ? 'block' : 'none';\n",
              "\n",
              "        async function convertToInteractive(key) {\n",
              "          const element = document.querySelector('#df-d47716cd-5589-48b7-8059-85e7d69a9c36');\n",
              "          const dataTable =\n",
              "            await google.colab.kernel.invokeFunction('convertToInteractive',\n",
              "                                                     [key], {});\n",
              "          if (!dataTable) return;\n",
              "\n",
              "          const docLinkHtml = 'Like what you see? Visit the ' +\n",
              "            '<a target=\"_blank\" href=https://colab.research.google.com/notebooks/data_table.ipynb>data table notebook</a>'\n",
              "            + ' to learn more about interactive tables.';\n",
              "          element.innerHTML = '';\n",
              "          dataTable['output_type'] = 'display_data';\n",
              "          await google.colab.output.renderOutput(dataTable, element);\n",
              "          const docLink = document.createElement('div');\n",
              "          docLink.innerHTML = docLinkHtml;\n",
              "          element.appendChild(docLink);\n",
              "        }\n",
              "      </script>\n",
              "    </div>\n",
              "  </div>\n",
              "  "
            ]
          },
          "metadata": {},
          "execution_count": 9
        }
      ]
    },
    {
      "cell_type": "code",
      "source": [
        "#Examaning a correlation matrix of all the features \n",
        "\n",
        "corrmat = df.corr()\n",
        "plt.subplots(figsize=(18,18))\n",
        "sns.heatmap(corrmat,cmap=\"Pastel1\", square=True);\n"
      ],
      "metadata": {
        "colab": {
          "base_uri": "https://localhost:8080/",
          "height": 1000
        },
        "id": "80WTcdxZYzFm",
        "outputId": "08e50089-6af5-41f3-c674-41c9040d7807"
      },
      "execution_count": null,
      "outputs": [
        {
          "output_type": "display_data",
          "data": {
            "text/plain": [
              "<Figure size 1296x1296 with 2 Axes>"
            ],
            "image/png": "[encoded data removed]"
          },
          "metadata": {
            "needs_background": "light"
          }
        }
      ]
    },
    {
      "cell_type": "code",
      "source": [
        "corrmat[\"PCOS (Y/N)\"].sort_values(ascending=False)\n"
      ],
      "metadata": {
        "colab": {
          "base_uri": "https://localhost:8080/"
        },
        "id": "FgLhQpn3Zc3I",
        "outputId": "c6b7ae35-e41d-4e8f-d76d-a041694ff463"
      },
      "execution_count": null,
      "outputs": [
        {
          "output_type": "execute_result",
          "data": {
            "text/plain": [
              "PCOS (Y/N)                   1.000000\n",
              "mood swings                  1.000000\n",
              "Bloated                      0.910538\n",
              "Irregular_sleep              0.900521\n",
              "difficult to loose weight    0.889252\n",
              "facial hair                  0.835610\n",
              "Cycle(months)                0.834507\n",
              "chest hair                   0.806519\n",
              "Skin darkening (Y/N)         0.475733\n",
              "hair growth(Y/N)             0.464667\n",
              "Weight gain(Y/N)             0.441047\n",
              "Fast food (Y/N)              0.378720\n",
              "Pimples(Y/N)                 0.286077\n",
              "Weight (Kg)                  0.211938\n",
              "BMI                          0.199534\n",
              "Hair loss(Y/N)               0.172879\n",
              "Waist(inch)                  0.164598\n",
              "Hip(inch)                    0.162297\n",
              "Pulse rate(bpm)              0.091821\n",
              "anxiety/depression/stress    0.075082\n",
              "Height(Cm)                   0.068254\n",
              "Reg Exercise(Y/N)            0.065337\n",
              "Sl No                        0.060998\n",
              "Patient File No              0.060998\n",
              "Blood Group                  0.036433\n",
              "Waist/Hip Ratio              0.012386\n",
              "Pregnant(Y/N)               -0.027565\n",
              "No of aborptions            -0.057158\n",
              "Marriage Status (Yrs)       -0.116652\n",
              " Age (yrs)                  -0.168513\n",
              "Cycle length(days)          -0.178480\n",
              "Name: PCOS (Y/N), dtype: float64"
            ]
          },
          "metadata": {},
          "execution_count": 24
        }
      ]
    },
    {
      "cell_type": "code",
      "source": [
        "#Having a look at features bearing significant correlation\n",
        "\n",
        "plt.figure(figsize=(12,12))\n",
        "k = 12 #number of variables with positive for heatmap\n",
        "l = 3 #number of variables with negative for heatmap\n",
        "cols_p = corrmat.nlargest(k, \"PCOS (Y/N)\")[\"PCOS (Y/N)\"].index \n",
        "cols_n = corrmat.nsmallest(l, \"PCOS (Y/N)\")[\"PCOS (Y/N)\"].index\n",
        "cols = cols_p.append(cols_n) \n",
        "\n",
        "cm = np.corrcoef(df[cols].values.T)\n",
        "sns.set(font_scale=1.25)\n",
        "hm = sns.heatmap(cm, cbar=True,cmap=\"Pastel1\", annot=True, square=True, fmt='.2f', annot_kws={'size': 10}, yticklabels=cols.values, xticklabels=cols.values)\n",
        "plt.show()\n"
      ],
      "metadata": {
        "colab": {
          "base_uri": "https://localhost:8080/",
          "height": 802
        },
        "id": "MFsHKg5BZqW8",
        "outputId": "3b5ac319-10c7-474f-dd4d-5395c5b3078e"
      },
      "execution_count": null,
      "outputs": [
        {
          "output_type": "display_data",
          "data": {
            "text/plain": [
              "<Figure size 864x864 with 2 Axes>"
            ],
            "image/png": "[encoded data removed]"
          },
          "metadata": {
            "needs_background": "light"
          }
        }
      ]
    },
    {
      "cell_type": "code",
      "source": [
        "# Length of menstrual phase in PCOS vs normal \n",
        "color = [\"teal\", \"plum\"]\n",
        "fig=sns.lmplot(data=df,x=\" Age (yrs)\",y=\"Cycle length(days)\", hue=\"PCOS (Y/N)\",palette=color)\n",
        "plt.show(fig)"
      ],
      "metadata": {
        "colab": {
          "base_uri": "https://localhost:8080/",
          "height": 358
        },
        "id": "SMUd_clvZp9s",
        "outputId": "dd895fa6-63f9-4f43-98f3-c56bbe468060"
      },
      "execution_count": null,
      "outputs": [
        {
          "output_type": "display_data",
          "data": {
            "text/plain": [
              "<Figure size 453.625x360 with 1 Axes>"
            ],
            "image/png": "[encoded data removed]"
          },
          "metadata": {}
        }
      ]
    },
    {
      "cell_type": "code",
      "source": [
        "# Pattern of weight gain (BMI) over years in PCOS and Normal. \n",
        "fig= sns.lmplot(data =df,x=\" Age (yrs)\",y=\"BMI\", hue=\"PCOS (Y/N)\", palette= color )\n",
        "plt.show(fig)"
      ],
      "metadata": {
        "colab": {
          "base_uri": "https://localhost:8080/",
          "height": 358
        },
        "id": "0U5phpuSa_Z0",
        "outputId": "07182286-3a97-4629-e898-d1f1d7890646"
      },
      "execution_count": null,
      "outputs": [
        {
          "output_type": "display_data",
          "data": {
            "text/plain": [
              "<Figure size 453.625x360 with 1 Axes>"
            ],
            "image/png": "[encoded data removed]"
          },
          "metadata": {}
        }
      ]
    },
    {
      "cell_type": "code",
      "source": [
        "# cycle IR wrt age \n",
        "sns.lmplot(data =df,x=\" Age (yrs)\",y=\"Cycle(months)\", hue=\"PCOS (Y/N)\",palette=color)\n",
        "plt.show()"
      ],
      "metadata": {
        "colab": {
          "base_uri": "https://localhost:8080/",
          "height": 358
        },
        "id": "C75iVr9wa_WU",
        "outputId": "f0449352-a17a-47a9-850d-af5020bb3de0"
      },
      "execution_count": null,
      "outputs": [
        {
          "output_type": "display_data",
          "data": {
            "text/plain": [
              "<Figure size 453.625x360 with 1 Axes>"
            ],
            "image/png": "[encoded data removed]"
          },
          "metadata": {}
        }
      ]
    },
    {
      "cell_type": "code",
      "source": [
        "# Distribution of follicles in both ovaries. \n",
        "# sns.lmplot(data =df,x='Follicle No. (R)',y='Follicle No. (L)', hue=\"PCOS (Y/N)\",palette=color)\n",
        "# plt.show()"
      ],
      "metadata": {
        "id": "JBYdMAA1a_TJ"
      },
      "execution_count": null,
      "outputs": []
    },
    {
      "cell_type": "code",
      "source": [],
      "metadata": {
        "id": "wfDFocPfa_OJ"
      },
      "execution_count": null,
      "outputs": []
    },
    {
      "cell_type": "code",
      "source": [],
      "metadata": {
        "id": "xrdbB3uha_IB"
      },
      "execution_count": null,
      "outputs": []
    },
    {
      "cell_type": "markdown",
      "source": [
        "### dropping the unecessary columns"
      ],
      "metadata": {
        "id": "8b83kstUZwNh"
      }
    },
    {
      "cell_type": "code",
      "source": [
        "df.drop(columns = [\"Sl No\", \"Patient File No\"], axis = 1, inplace = True)\n",
        "#  adding inplace = true drops the columns from original dataframe,and if not used, it creates a new dataframe\n"
      ],
      "metadata": {
        "id": "uoNwYElYYsZy"
      },
      "execution_count": null,
      "outputs": []
    },
    {
      "cell_type": "code",
      "source": [
        "df.columns\n"
      ],
      "metadata": {
        "id": "vt0RwISZZpOR",
        "colab": {
          "base_uri": "https://localhost:8080/"
        },
        "outputId": "58840a40-1ba5-4601-8963-b90504654e1d"
      },
      "execution_count": null,
      "outputs": [
        {
          "output_type": "execute_result",
          "data": {
            "text/plain": [
              "Index(['PCOS (Y/N)', ' Age (yrs)', 'Pregnant(Y/N)', 'No of aborptions',\n",
              "       'Bloated', 'facial hair', 'chest hair', 'difficult to loose weight',\n",
              "       'mood swings', 'anxiety/depression/stress', 'Irregular_sleep',\n",
              "       'Weight gain(Y/N)', 'hair growth(Y/N)', 'Skin darkening (Y/N)',\n",
              "       'Hair loss(Y/N)', 'Pimples(Y/N)', 'Fast food (Y/N)',\n",
              "       'Reg Exercise(Y/N)', 'Weight (Kg)', 'Height(Cm) ', 'BMI', 'Blood Group',\n",
              "       'Pulse rate(bpm) ', 'Cycle(months)', 'Cycle length(days)',\n",
              "       'Marriage Status (Yrs)', 'Hip(inch)', 'Waist(inch)', 'Waist/Hip Ratio'],\n",
              "      dtype='object')"
            ]
          },
          "metadata": {},
          "execution_count": 11
        }
      ]
    },
    {
      "cell_type": "code",
      "source": [
        "train.info()"
      ],
      "metadata": {
        "id": "vfabJAQ9_Jy4",
        "colab": {
          "base_uri": "https://localhost:8080/",
          "height": 171
        },
        "outputId": "5c3cbbd6-b55c-4cf8-f753-2408d906ced4"
      },
      "execution_count": null,
      "outputs": [
        {
          "output_type": "error",
          "ename": "NameError",
          "evalue": "ignored",
          "traceback": [
            "\u001b[0;31m---------------------------------------------------------------------------\u001b[0m",
            "\u001b[0;31mNameError\u001b[0m                                 Traceback (most recent call last)",
            "\u001b[0;32m<ipython-input-12-cdee5ac57152>\u001b[0m in \u001b[0;36m<module>\u001b[0;34m\u001b[0m\n\u001b[0;32m----> 1\u001b[0;31m \u001b[0mtrain\u001b[0m\u001b[0;34m.\u001b[0m\u001b[0minfo\u001b[0m\u001b[0;34m(\u001b[0m\u001b[0;34m)\u001b[0m\u001b[0;34m\u001b[0m\u001b[0;34m\u001b[0m\u001b[0m\n\u001b[0m",
            "\u001b[0;31mNameError\u001b[0m: name 'train' is not defined"
          ]
        }
      ]
    },
    {
      "cell_type": "code",
      "source": [
        "train.describe()"
      ],
      "metadata": {
        "id": "krLVTp-G-7fp"
      },
      "execution_count": null,
      "outputs": []
    },
    {
      "cell_type": "markdown",
      "source": [],
      "metadata": {
        "id": "GByP2xEK-7OI"
      }
    },
    {
      "cell_type": "markdown",
      "source": [
        "### splitting numerical and categorical columns\n"
      ],
      "metadata": {
        "id": "vEqOZcNiXIZX"
      }
    },
    {
      "cell_type": "code",
      "source": [
        "numerical_cols = [\"No of aborptions\", \"Weight (Kg)\" ,\"Height(Cm) \" ,\"BMI\" ,\"Blood Group\" ,\"Pulse rate(bpm) \" ,\"Cycle(months)\" ,\"Cycle length(days)\" ,\"Marriage Status (Yrs)\" ,\"Hip(inch)\", \"Waist(inch)\", \"Waist/Hip Ratio\"]\n",
        "categorical_cols = list(set(df.columns) - set(numerical_cols)- {\"PCOS (Y/N)\"})"
      ],
      "metadata": {
        "id": "a031H2qCXHZo"
      },
      "execution_count": null,
      "outputs": []
    },
    {
      "cell_type": "code",
      "source": [
        "numerical_cols\n"
      ],
      "metadata": {
        "id": "iFnoToKOZSAt",
        "colab": {
          "base_uri": "https://localhost:8080/"
        },
        "outputId": "8489ce76-409c-4e91-d3e1-3a4afb7a3252"
      },
      "execution_count": null,
      "outputs": [
        {
          "output_type": "execute_result",
          "data": {
            "text/plain": [
              "['No of aborptions',\n",
              " 'Weight (Kg)',\n",
              " 'Height(Cm) ',\n",
              " 'BMI',\n",
              " 'Blood Group',\n",
              " 'Pulse rate(bpm) ',\n",
              " 'Cycle(months)',\n",
              " 'Cycle length(days)',\n",
              " 'Marriage Status (Yrs)',\n",
              " 'Hip(inch)',\n",
              " 'Waist(inch)',\n",
              " 'Waist/Hip Ratio']"
            ]
          },
          "metadata": {},
          "execution_count": 39
        }
      ]
    },
    {
      "cell_type": "code",
      "source": [
        "categorical_cols"
      ],
      "metadata": {
        "id": "teNx-57AZgDb",
        "colab": {
          "base_uri": "https://localhost:8080/"
        },
        "outputId": "0f1b3216-758e-4b10-b170-e5f600c3f225"
      },
      "execution_count": null,
      "outputs": [
        {
          "output_type": "execute_result",
          "data": {
            "text/plain": [
              "['Fast food (Y/N)',\n",
              " 'Irregular_sleep',\n",
              " 'Skin darkening (Y/N)',\n",
              " 'Pimples(Y/N)',\n",
              " 'Pregnant(Y/N)',\n",
              " 'Reg Exercise(Y/N)',\n",
              " 'anxiety/depression/stress',\n",
              " 'difficult to loose weight',\n",
              " ' Age (yrs)',\n",
              " 'facial hair',\n",
              " 'Bloated',\n",
              " 'mood swings',\n",
              " 'Hair loss(Y/N)',\n",
              " 'hair growth(Y/N)',\n",
              " 'Weight gain(Y/N)',\n",
              " 'chest hair']"
            ]
          },
          "metadata": {},
          "execution_count": 40
        }
      ]
    },
    {
      "cell_type": "markdown",
      "source": [
        "### splitting data"
      ],
      "metadata": {
        "id": "BiaHrfCRi-As"
      }
    },
    {
      "cell_type": "code",
      "source": [
        "df_train, df_test = train_test_split(train, test_size = 0.2, random_state = 42)"
      ],
      "metadata": {
        "id": "CNoQg9KMdsKz",
        "colab": {
          "base_uri": "https://localhost:8080/",
          "height": 171
        },
        "outputId": "40c557bd-f990-4dc6-c738-97205ac71e15"
      },
      "execution_count": null,
      "outputs": [
        {
          "output_type": "error",
          "ename": "NameError",
          "evalue": "ignored",
          "traceback": [
            "\u001b[0;31m---------------------------------------------------------------------------\u001b[0m",
            "\u001b[0;31mNameError\u001b[0m                                 Traceback (most recent call last)",
            "\u001b[0;32m<ipython-input-41-1252cd83a924>\u001b[0m in \u001b[0;36m<module>\u001b[0;34m\u001b[0m\n\u001b[0;32m----> 1\u001b[0;31m \u001b[0mdf_train\u001b[0m\u001b[0;34m,\u001b[0m \u001b[0mdf_test\u001b[0m \u001b[0;34m=\u001b[0m \u001b[0mtrain_test_split\u001b[0m\u001b[0;34m(\u001b[0m\u001b[0mtrain\u001b[0m\u001b[0;34m,\u001b[0m \u001b[0mtest_size\u001b[0m \u001b[0;34m=\u001b[0m \u001b[0;36m0.2\u001b[0m\u001b[0;34m,\u001b[0m \u001b[0mrandom_state\u001b[0m \u001b[0;34m=\u001b[0m \u001b[0;36m42\u001b[0m\u001b[0;34m)\u001b[0m\u001b[0;34m\u001b[0m\u001b[0;34m\u001b[0m\u001b[0m\n\u001b[0m",
            "\u001b[0;31mNameError\u001b[0m: name 'train' is not defined"
          ]
        }
      ]
    },
    {
      "cell_type": "code",
      "source": [
        "len(df_train), len(df_test)"
      ],
      "metadata": {
        "id": "8V3kQ17pdsNB",
        "colab": {
          "base_uri": "https://localhost:8080/",
          "height": 171
        },
        "outputId": "359c0382-abd7-4751-8fa3-5433ec14e68e"
      },
      "execution_count": null,
      "outputs": [
        {
          "output_type": "error",
          "ename": "NameError",
          "evalue": "ignored",
          "traceback": [
            "\u001b[0;31m---------------------------------------------------------------------------\u001b[0m",
            "\u001b[0;31mNameError\u001b[0m                                 Traceback (most recent call last)",
            "\u001b[0;32m<ipython-input-42-9bb438656675>\u001b[0m in \u001b[0;36m<module>\u001b[0;34m\u001b[0m\n\u001b[0;32m----> 1\u001b[0;31m \u001b[0mlen\u001b[0m\u001b[0;34m(\u001b[0m\u001b[0mdf_train\u001b[0m\u001b[0;34m)\u001b[0m\u001b[0;34m,\u001b[0m \u001b[0mlen\u001b[0m\u001b[0;34m(\u001b[0m\u001b[0mdf_test\u001b[0m\u001b[0;34m)\u001b[0m\u001b[0;34m\u001b[0m\u001b[0;34m\u001b[0m\u001b[0m\n\u001b[0m",
            "\u001b[0;31mNameError\u001b[0m: name 'df_train' is not defined"
          ]
        }
      ]
    },
    {
      "cell_type": "markdown",
      "source": [
        "### scaling numerical columns\n",
        "this is required because the numerical columns might have data 1 as well as 800. in this case 800 may be considered as outlier. so we need to apply standard scaling to bring all the values in a particular range "
      ],
      "metadata": {
        "id": "HyqXX6EXb-0F"
      }
    },
    {
      "cell_type": "code",
      "source": [
        "scaler = StandardScaler()\n",
        "def get_features_and_target_array(df, numerical_cols, categorical_cols, scaler):\n",
        "  x_numeric_scaled = scaler.fit_transform(df[numerical_cols]) #it will take every data point of numerical column and it will transform it to -1 to 1 range\n",
        "  x_categorical = df[categorical_cols].to_numpy() #categorical cols\n",
        "  x = np.hstack((x_categorical, x_numeric_scaled)) #single array of the above two arrays so that it can directly be added to model\n",
        "  y = df[\"PCOS (Y/N)\"]\n",
        "  return x, y"
      ],
      "metadata": {
        "id": "emAhO5EFdsQ5"
      },
      "execution_count": null,
      "outputs": []
    },
    {
      "cell_type": "code",
      "source": [
        "x_train, y_train = get_features_and_target_array(df, numerical_cols, categorical_cols, scaler)"
      ],
      "metadata": {
        "id": "2JqsR5N1dsUP"
      },
      "execution_count": null,
      "outputs": []
    },
    {
      "cell_type": "markdown",
      "source": [
        "### train\n",
        "# 1. Logistic Regression"
      ],
      "metadata": {
        "id": "DPw4-gApiHEe"
      }
    },
    {
      "cell_type": "code",
      "source": [
        "clf = LogisticRegression()\n",
        "clf.fit(x_train, y_train)"
      ],
      "metadata": {
        "id": "firr98hLdsXB",
        "colab": {
          "base_uri": "https://localhost:8080/"
        },
        "outputId": "4ef77e9c-3797-46f2-de32-0753dc9d8415"
      },
      "execution_count": null,
      "outputs": [
        {
          "output_type": "stream",
          "name": "stderr",
          "text": [
            "/usr/local/lib/python3.8/dist-packages/sklearn/linear_model/_logistic.py:814: ConvergenceWarning: lbfgs failed to converge (status=1):\n",
            "STOP: TOTAL NO. of ITERATIONS REACHED LIMIT.\n",
            "\n",
            "Increase the number of iterations (max_iter) or scale the data as shown in:\n",
            "    https://scikit-learn.org/stable/modules/preprocessing.html\n",
            "Please also refer to the documentation for alternative solver options:\n",
            "    https://scikit-learn.org/stable/modules/linear_model.html#logistic-regression\n",
            "  n_iter_i = _check_optimize_result(\n"
          ]
        },
        {
          "output_type": "execute_result",
          "data": {
            "text/plain": [
              "LogisticRegression()"
            ]
          },
          "metadata": {},
          "execution_count": 45
        }
      ]
    },
    {
      "cell_type": "code",
      "source": [
        "x_test, y_test = get_features_and_target_array(df, numerical_cols, categorical_cols, scaler)"
      ],
      "metadata": {
        "id": "2qJTEyQLdshS"
      },
      "execution_count": null,
      "outputs": []
    },
    {
      "cell_type": "code",
      "source": [
        "test_pred = clf.predict(x_test)"
      ],
      "metadata": {
        "id": "J27t8dxGiviJ"
      },
      "execution_count": null,
      "outputs": []
    },
    {
      "cell_type": "code",
      "source": [
        "mean_squared_error(y_test, test_pred)"
      ],
      "metadata": {
        "id": "ZeXEQGgAivlU",
        "colab": {
          "base_uri": "https://localhost:8080/"
        },
        "outputId": "30a4fc56-9a0c-400a-856a-5caca9951284"
      },
      "execution_count": null,
      "outputs": [
        {
          "output_type": "execute_result",
          "data": {
            "text/plain": [
              "0.0"
            ]
          },
          "metadata": {},
          "execution_count": 48
        }
      ]
    },
    {
      "cell_type": "code",
      "source": [
        "accuracy_score(y_test, test_pred)"
      ],
      "metadata": {
        "id": "XO7UV6KdivpJ",
        "colab": {
          "base_uri": "https://localhost:8080/"
        },
        "outputId": "d7911b6e-4690-4ee8-dc69-2bf3a2557714"
      },
      "execution_count": null,
      "outputs": [
        {
          "output_type": "execute_result",
          "data": {
            "text/plain": [
              "1.0"
            ]
          },
          "metadata": {},
          "execution_count": 49
        }
      ]
    },
    {
      "cell_type": "code",
      "source": [
        "confusion_matrix(y_test, test_pred)"
      ],
      "metadata": {
        "id": "jOjaMgVyivrX"
      },
      "execution_count": null,
      "outputs": []
    },
    {
      "cell_type": "markdown",
      "source": [
        "# 2. Decision Tree"
      ],
      "metadata": {
        "id": "1LYPgAWikizV"
      }
    },
    {
      "cell_type": "code",
      "source": [
        "dc_clf = DecisionTreeClassifier()\n",
        "dc_clf.fit(x_train, y_train)\n",
        "\n",
        "dlf_pred = dc_clf.predict(x_test)\n",
        "print(mean_squared_error(y_test, dlf_pred))\n",
        "print(accuracy_score(y_test, dlf_pred))"
      ],
      "metadata": {
        "id": "LeZ07Er4ko0h",
        "colab": {
          "base_uri": "https://localhost:8080/"
        },
        "outputId": "ef48c096-2342-495f-c206-a79ef62ff23a"
      },
      "execution_count": null,
      "outputs": [
        {
          "output_type": "stream",
          "name": "stdout",
          "text": [
            "0.0\n",
            "1.0\n"
          ]
        }
      ]
    },
    {
      "cell_type": "markdown",
      "source": [
        "# 3. SVM\n"
      ],
      "metadata": {
        "id": "MVDC26a3niLc"
      }
    },
    {
      "cell_type": "code",
      "source": [
        "svm_clf = SVC()\n",
        "svm_clf.fit(x_train, y_train)\n",
        "x_test = [[1,28,0,0,0,0,0,0,0,1,0,0,0,0,0,1,0,44,152,19.3,15,78,1,5,7,36,30,0.83333]]\n",
        "\n",
        "svm_pred = svm_clf.predict(x_test)\n",
        "print(svm_pred)\n",
        "# print(mean_squared_error(y_test, svm_pred))\n",
        "# print(accuracy_score(y_test, svm_pred))"
      ],
      "metadata": {
        "id": "Ku288IPynlhT",
        "colab": {
          "base_uri": "https://localhost:8080/"
        },
        "outputId": "c5b090e1-cb3f-49be-a14b-9b4fbf72455d"
      },
      "execution_count": null,
      "outputs": [
        {
          "output_type": "stream",
          "name": "stdout",
          "text": [
            "[0]\n"
          ]
        }
      ]
    },
    {
      "cell_type": "code",
      "source": [
        "from sklearn.metrics import f1_score\n"
      ],
      "metadata": {
        "id": "Mcw4AmVIoaue"
      },
      "execution_count": null,
      "outputs": []
    },
    {
      "cell_type": "code",
      "source": [
        "f1_score(y_test, test_pred, average='macro')"
      ],
      "metadata": {
        "id": "GC_2O8EdASfh",
        "colab": {
          "base_uri": "https://localhost:8080/"
        },
        "outputId": "aecc9079-36de-42de-ae29-7b5bf4b7da8c"
      },
      "execution_count": null,
      "outputs": [
        {
          "output_type": "execute_result",
          "data": {
            "text/plain": [
              "1.0"
            ]
          },
          "metadata": {},
          "execution_count": 53
        }
      ]
    }
  ]
}
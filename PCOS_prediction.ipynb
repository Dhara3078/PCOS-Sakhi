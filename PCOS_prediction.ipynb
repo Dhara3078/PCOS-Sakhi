{
  "nbformat": 4,
  "nbformat_minor": 0,
  "metadata": {
    "colab": {
      "provenance": [],
      "include_colab_link": true
    },
    "kernelspec": {
      "name": "python3",
      "display_name": "Python 3"
    },
    "language_info": {
      "name": "python"
    }
  },
  "cells": [
    {
      "cell_type": "markdown",
      "metadata": {
        "id": "view-in-github",
        "colab_type": "text"
      },
      "source": [
        "<a href=\"https://colab.research.google.com/github/Drishty06/PCOS-Sakhi/blob/main/PCOS_prediction.ipynb\" target=\"_parent\"><img src=\"https://colab.research.google.com/assets/colab-badge.svg\" alt=\"Open In Colab\"/></a>"
      ]
    },
    {
      "cell_type": "markdown",
      "source": [
        "# **PCOS prediction**\n"
      ],
      "metadata": {
        "id": "FY0qFMxMSvVg"
      }
    },
    {
      "cell_type": "markdown",
      "source": [
        "### import libraries\n"
      ],
      "metadata": {
        "id": "iG1V7kFEXQ7i"
      }
    },
    {
      "cell_type": "code",
      "execution_count": 4,
      "metadata": {
        "id": "B5MJvzt8RDqT"
      },
      "outputs": [],
      "source": [
        "import pandas as pd \n",
        "import numpy as np\n",
        "import matplotlib.pyplot as plt\n",
        "\n",
        "from sklearn.model_selection import train_test_split\n",
        "from sklearn.preprocessing import StandardScaler\n",
        "\n",
        "from sklearn.linear_model import LogisticRegression\n",
        "from sklearn.tree import DecisionTreeClassifier\n",
        "from sklearn.svm import SVC\n",
        "\n",
        "from sklearn.metrics import mean_squared_error, accuracy_score, confusion_matrix\n"
      ]
    },
    {
      "cell_type": "markdown",
      "source": [
        "### loaded the csv file (local file)\n"
      ],
      "metadata": {
        "id": "NE1P5FCYXmuE"
      }
    },
    {
      "cell_type": "code",
      "source": [
        "from google.colab import files\n",
        "data_to_load = files.upload()\n"
      ],
      "metadata": {
        "colab": {
          "base_uri": "https://localhost:8080/",
          "height": 38
        },
        "id": "iiR2rsoxTNlg",
        "outputId": "668e54a9-dac8-4141-8b52-9bb53252a910"
      },
      "execution_count": 5,
      "outputs": [
        {
          "output_type": "display_data",
          "data": {
            "text/plain": [
              "<IPython.core.display.HTML object>"
            ],
            "text/html": [
              "\n",
              "     <input type=\"file\" id=\"files-aada7c45-2313-4e36-9dc5-9b592114b676\" name=\"files[]\" multiple disabled\n",
              "        style=\"border:none\" />\n",
              "     <output id=\"result-aada7c45-2313-4e36-9dc5-9b592114b676\">\n",
              "      Upload widget is only available when the cell has been executed in the\n",
              "      current browser session. Please rerun this cell to enable.\n",
              "      </output>\n",
              "      <script>// Copyright 2017 Google LLC\n",
              "//\n",
              "// Licensed under the Apache License, Version 2.0 (the \"License\");\n",
              "// you may not use this file except in compliance with the License.\n",
              "// You may obtain a copy of the License at\n",
              "//\n",
              "//      http://www.apache.org/licenses/LICENSE-2.0\n",
              "//\n",
              "// Unless required by applicable law or agreed to in writing, software\n",
              "// distributed under the License is distributed on an \"AS IS\" BASIS,\n",
              "// WITHOUT WARRANTIES OR CONDITIONS OF ANY KIND, either express or implied.\n",
              "// See the License for the specific language governing permissions and\n",
              "// limitations under the License.\n",
              "\n",
              "/**\n",
              " * @fileoverview Helpers for google.colab Python module.\n",
              " */\n",
              "(function(scope) {\n",
              "function span(text, styleAttributes = {}) {\n",
              "  const element = document.createElement('span');\n",
              "  element.textContent = text;\n",
              "  for (const key of Object.keys(styleAttributes)) {\n",
              "    element.style[key] = styleAttributes[key];\n",
              "  }\n",
              "  return element;\n",
              "}\n",
              "\n",
              "// Max number of bytes which will be uploaded at a time.\n",
              "const MAX_PAYLOAD_SIZE = 100 * 1024;\n",
              "\n",
              "function _uploadFiles(inputId, outputId) {\n",
              "  const steps = uploadFilesStep(inputId, outputId);\n",
              "  const outputElement = document.getElementById(outputId);\n",
              "  // Cache steps on the outputElement to make it available for the next call\n",
              "  // to uploadFilesContinue from Python.\n",
              "  outputElement.steps = steps;\n",
              "\n",
              "  return _uploadFilesContinue(outputId);\n",
              "}\n",
              "\n",
              "// This is roughly an async generator (not supported in the browser yet),\n",
              "// where there are multiple asynchronous steps and the Python side is going\n",
              "// to poll for completion of each step.\n",
              "// This uses a Promise to block the python side on completion of each step,\n",
              "// then passes the result of the previous step as the input to the next step.\n",
              "function _uploadFilesContinue(outputId) {\n",
              "  const outputElement = document.getElementById(outputId);\n",
              "  const steps = outputElement.steps;\n",
              "\n",
              "  const next = steps.next(outputElement.lastPromiseValue);\n",
              "  return Promise.resolve(next.value.promise).then((value) => {\n",
              "    // Cache the last promise value to make it available to the next\n",
              "    // step of the generator.\n",
              "    outputElement.lastPromiseValue = value;\n",
              "    return next.value.response;\n",
              "  });\n",
              "}\n",
              "\n",
              "/**\n",
              " * Generator function which is called between each async step of the upload\n",
              " * process.\n",
              " * @param {string} inputId Element ID of the input file picker element.\n",
              " * @param {string} outputId Element ID of the output display.\n",
              " * @return {!Iterable<!Object>} Iterable of next steps.\n",
              " */\n",
              "function* uploadFilesStep(inputId, outputId) {\n",
              "  const inputElement = document.getElementById(inputId);\n",
              "  inputElement.disabled = false;\n",
              "\n",
              "  const outputElement = document.getElementById(outputId);\n",
              "  outputElement.innerHTML = '';\n",
              "\n",
              "  const pickedPromise = new Promise((resolve) => {\n",
              "    inputElement.addEventListener('change', (e) => {\n",
              "      resolve(e.target.files);\n",
              "    });\n",
              "  });\n",
              "\n",
              "  const cancel = document.createElement('button');\n",
              "  inputElement.parentElement.appendChild(cancel);\n",
              "  cancel.textContent = 'Cancel upload';\n",
              "  const cancelPromise = new Promise((resolve) => {\n",
              "    cancel.onclick = () => {\n",
              "      resolve(null);\n",
              "    };\n",
              "  });\n",
              "\n",
              "  // Wait for the user to pick the files.\n",
              "  const files = yield {\n",
              "    promise: Promise.race([pickedPromise, cancelPromise]),\n",
              "    response: {\n",
              "      action: 'starting',\n",
              "    }\n",
              "  };\n",
              "\n",
              "  cancel.remove();\n",
              "\n",
              "  // Disable the input element since further picks are not allowed.\n",
              "  inputElement.disabled = true;\n",
              "\n",
              "  if (!files) {\n",
              "    return {\n",
              "      response: {\n",
              "        action: 'complete',\n",
              "      }\n",
              "    };\n",
              "  }\n",
              "\n",
              "  for (const file of files) {\n",
              "    const li = document.createElement('li');\n",
              "    li.append(span(file.name, {fontWeight: 'bold'}));\n",
              "    li.append(span(\n",
              "        `(${file.type || 'n/a'}) - ${file.size} bytes, ` +\n",
              "        `last modified: ${\n",
              "            file.lastModifiedDate ? file.lastModifiedDate.toLocaleDateString() :\n",
              "                                    'n/a'} - `));\n",
              "    const percent = span('0% done');\n",
              "    li.appendChild(percent);\n",
              "\n",
              "    outputElement.appendChild(li);\n",
              "\n",
              "    const fileDataPromise = new Promise((resolve) => {\n",
              "      const reader = new FileReader();\n",
              "      reader.onload = (e) => {\n",
              "        resolve(e.target.result);\n",
              "      };\n",
              "      reader.readAsArrayBuffer(file);\n",
              "    });\n",
              "    // Wait for the data to be ready.\n",
              "    let fileData = yield {\n",
              "      promise: fileDataPromise,\n",
              "      response: {\n",
              "        action: 'continue',\n",
              "      }\n",
              "    };\n",
              "\n",
              "    // Use a chunked sending to avoid message size limits. See b/62115660.\n",
              "    let position = 0;\n",
              "    do {\n",
              "      const length = Math.min(fileData.byteLength - position, MAX_PAYLOAD_SIZE);\n",
              "      const chunk = new Uint8Array(fileData, position, length);\n",
              "      position += length;\n",
              "\n",
              "      const base64 = btoa(String.fromCharCode.apply(null, chunk));\n",
              "      yield {\n",
              "        response: {\n",
              "          action: 'append',\n",
              "          file: file.name,\n",
              "          data: base64,\n",
              "        },\n",
              "      };\n",
              "\n",
              "      let percentDone = fileData.byteLength === 0 ?\n",
              "          100 :\n",
              "          Math.round((position / fileData.byteLength) * 100);\n",
              "      percent.textContent = `${percentDone}% done`;\n",
              "\n",
              "    } while (position < fileData.byteLength);\n",
              "  }\n",
              "\n",
              "  // All done.\n",
              "  yield {\n",
              "    response: {\n",
              "      action: 'complete',\n",
              "    }\n",
              "  };\n",
              "}\n",
              "\n",
              "scope.google = scope.google || {};\n",
              "scope.google.colab = scope.google.colab || {};\n",
              "scope.google.colab._files = {\n",
              "  _uploadFiles,\n",
              "  _uploadFilesContinue,\n",
              "};\n",
              "})(self);\n",
              "</script> "
            ]
          },
          "metadata": {}
        }
      ]
    },
    {
      "cell_type": "markdown",
      "source": [
        "### mounted google drive"
      ],
      "metadata": {
        "id": "gJ4b1w-vVEJ5"
      }
    },
    {
      "cell_type": "code",
      "source": [
        "from google.colab import drive\n",
        "drive.mount('/content/drive')"
      ],
      "metadata": {
        "colab": {
          "base_uri": "https://localhost:8080/"
        },
        "id": "QPitB53lTCbX",
        "outputId": "90b47c16-9bc5-41e5-f864-4c2fe6216d3b"
      },
      "execution_count": 6,
      "outputs": [
        {
          "output_type": "stream",
          "name": "stdout",
          "text": [
            "Drive already mounted at /content/drive; to attempt to forcibly remount, call drive.mount(\"/content/drive\", force_remount=True).\n"
          ]
        }
      ]
    },
    {
      "cell_type": "code",
      "source": [
        "\n",
        "df = pd.read_csv('/content/drive/MyDrive/Colab Notebooks/pcos.csv')"
      ],
      "metadata": {
        "id": "Kwq0BJCkWHdj"
      },
      "execution_count": 36,
      "outputs": []
    },
    {
      "cell_type": "code",
      "source": [
        "df.head(10)\n"
      ],
      "metadata": {
        "colab": {
          "base_uri": "https://localhost:8080/",
          "height": 491
        },
        "id": "MlTC4wkFW3Xh",
        "outputId": "2626511e-6af9-4005-ba50-d4dba6ea7ce8"
      },
      "execution_count": 8,
      "outputs": [
        {
          "output_type": "execute_result",
          "data": {
            "text/plain": [
              "   Sl No  Patient File No  PCOS (Y/N)   Age (yrs)  Pregnant(Y/N)  \\\n",
              "0      1            10001           0          28              0   \n",
              "1      2            10002           0          36              1   \n",
              "2      3            10003           1          33              1   \n",
              "3      4            10004           0          37              0   \n",
              "4      5            10005           0          25              1   \n",
              "5      6            10006           0          36              1   \n",
              "6      7            10007           0          34              0   \n",
              "7      8            10008           0          33              1   \n",
              "8      9            10009           0          32              0   \n",
              "9     10            10010           0          36              0   \n",
              "\n",
              "   No of aborptions  Bloated  facial hair  chest hair  \\\n",
              "0                 0        0            0           0   \n",
              "1                 0        0            0           0   \n",
              "2                 0        1            1           1   \n",
              "3                 0        0            0           0   \n",
              "4                 0        0            0           0   \n",
              "5                 0        0            0           0   \n",
              "6                 0        0            0           0   \n",
              "7                 2        0            0           0   \n",
              "8                 1        0            0           0   \n",
              "9                 0        0            0           0   \n",
              "\n",
              "   difficult to loose weight  ...  Height(Cm)         BMI  Blood Group  \\\n",
              "0                          0  ...        152.0  19.300000           15   \n",
              "1                          0  ...        161.5  24.921163           15   \n",
              "2                          1  ...        165.0  25.270891           11   \n",
              "3                          0  ...        148.0  29.674945           13   \n",
              "4                          0  ...        161.0  20.060954           11   \n",
              "5                          0  ...        165.0  27.217631           15   \n",
              "6                          0  ...        156.0  26.298488           11   \n",
              "7                          0  ...        159.0  23.139907           13   \n",
              "8                          0  ...        158.0  16.023073           11   \n",
              "9                          0  ...        150.0  23.111111           15   \n",
              "\n",
              "   Pulse rate(bpm)   Cycle(months)  Cycle length(days)  Marriage Status (Yrs)  \\\n",
              "0                78              1                   5                    7.0   \n",
              "1                74              1                   5                   11.0   \n",
              "2                72              2                   5                   10.0   \n",
              "3                72              1                   5                    4.0   \n",
              "4                72              1                   5                    1.0   \n",
              "5                78              1                   5                    8.0   \n",
              "6                72              1                   5                    2.0   \n",
              "7                72              1                   5                   13.0   \n",
              "8                72              1                   5                    8.0   \n",
              "9                80              1                   2                    4.0   \n",
              "\n",
              "   Hip(inch)  Waist(inch)  Waist/Hip Ratio  \n",
              "0         36           30         0.833333  \n",
              "1         38           32         0.842105  \n",
              "2         40           36         0.900000  \n",
              "3         42           36         0.857143  \n",
              "4         37           30         0.810811  \n",
              "5         44           38         0.863636  \n",
              "6         39           33         0.846154  \n",
              "7         44           38         0.863636  \n",
              "8         39           35         0.897436  \n",
              "9         40           38         0.950000  \n",
              "\n",
              "[10 rows x 31 columns]"
            ],
            "text/html": [
              "\n",
              "  <div id=\"df-9123ebe1-1476-49be-9f86-7d8003935c05\">\n",
              "    <div class=\"colab-df-container\">\n",
              "      <div>\n",
              "<style scoped>\n",
              "    .dataframe tbody tr th:only-of-type {\n",
              "        vertical-align: middle;\n",
              "    }\n",
              "\n",
              "    .dataframe tbody tr th {\n",
              "        vertical-align: top;\n",
              "    }\n",
              "\n",
              "    .dataframe thead th {\n",
              "        text-align: right;\n",
              "    }\n",
              "</style>\n",
              "<table border=\"1\" class=\"dataframe\">\n",
              "  <thead>\n",
              "    <tr style=\"text-align: right;\">\n",
              "      <th></th>\n",
              "      <th>Sl No</th>\n",
              "      <th>Patient File No</th>\n",
              "      <th>PCOS (Y/N)</th>\n",
              "      <th>Age (yrs)</th>\n",
              "      <th>Pregnant(Y/N)</th>\n",
              "      <th>No of aborptions</th>\n",
              "      <th>Bloated</th>\n",
              "      <th>facial hair</th>\n",
              "      <th>chest hair</th>\n",
              "      <th>difficult to loose weight</th>\n",
              "      <th>...</th>\n",
              "      <th>Height(Cm)</th>\n",
              "      <th>BMI</th>\n",
              "      <th>Blood Group</th>\n",
              "      <th>Pulse rate(bpm)</th>\n",
              "      <th>Cycle(months)</th>\n",
              "      <th>Cycle length(days)</th>\n",
              "      <th>Marriage Status (Yrs)</th>\n",
              "      <th>Hip(inch)</th>\n",
              "      <th>Waist(inch)</th>\n",
              "      <th>Waist/Hip Ratio</th>\n",
              "    </tr>\n",
              "  </thead>\n",
              "  <tbody>\n",
              "    <tr>\n",
              "      <th>0</th>\n",
              "      <td>1</td>\n",
              "      <td>10001</td>\n",
              "      <td>0</td>\n",
              "      <td>28</td>\n",
              "      <td>0</td>\n",
              "      <td>0</td>\n",
              "      <td>0</td>\n",
              "      <td>0</td>\n",
              "      <td>0</td>\n",
              "      <td>0</td>\n",
              "      <td>...</td>\n",
              "      <td>152.0</td>\n",
              "      <td>19.300000</td>\n",
              "      <td>15</td>\n",
              "      <td>78</td>\n",
              "      <td>1</td>\n",
              "      <td>5</td>\n",
              "      <td>7.0</td>\n",
              "      <td>36</td>\n",
              "      <td>30</td>\n",
              "      <td>0.833333</td>\n",
              "    </tr>\n",
              "    <tr>\n",
              "      <th>1</th>\n",
              "      <td>2</td>\n",
              "      <td>10002</td>\n",
              "      <td>0</td>\n",
              "      <td>36</td>\n",
              "      <td>1</td>\n",
              "      <td>0</td>\n",
              "      <td>0</td>\n",
              "      <td>0</td>\n",
              "      <td>0</td>\n",
              "      <td>0</td>\n",
              "      <td>...</td>\n",
              "      <td>161.5</td>\n",
              "      <td>24.921163</td>\n",
              "      <td>15</td>\n",
              "      <td>74</td>\n",
              "      <td>1</td>\n",
              "      <td>5</td>\n",
              "      <td>11.0</td>\n",
              "      <td>38</td>\n",
              "      <td>32</td>\n",
              "      <td>0.842105</td>\n",
              "    </tr>\n",
              "    <tr>\n",
              "      <th>2</th>\n",
              "      <td>3</td>\n",
              "      <td>10003</td>\n",
              "      <td>1</td>\n",
              "      <td>33</td>\n",
              "      <td>1</td>\n",
              "      <td>0</td>\n",
              "      <td>1</td>\n",
              "      <td>1</td>\n",
              "      <td>1</td>\n",
              "      <td>1</td>\n",
              "      <td>...</td>\n",
              "      <td>165.0</td>\n",
              "      <td>25.270891</td>\n",
              "      <td>11</td>\n",
              "      <td>72</td>\n",
              "      <td>2</td>\n",
              "      <td>5</td>\n",
              "      <td>10.0</td>\n",
              "      <td>40</td>\n",
              "      <td>36</td>\n",
              "      <td>0.900000</td>\n",
              "    </tr>\n",
              "    <tr>\n",
              "      <th>3</th>\n",
              "      <td>4</td>\n",
              "      <td>10004</td>\n",
              "      <td>0</td>\n",
              "      <td>37</td>\n",
              "      <td>0</td>\n",
              "      <td>0</td>\n",
              "      <td>0</td>\n",
              "      <td>0</td>\n",
              "      <td>0</td>\n",
              "      <td>0</td>\n",
              "      <td>...</td>\n",
              "      <td>148.0</td>\n",
              "      <td>29.674945</td>\n",
              "      <td>13</td>\n",
              "      <td>72</td>\n",
              "      <td>1</td>\n",
              "      <td>5</td>\n",
              "      <td>4.0</td>\n",
              "      <td>42</td>\n",
              "      <td>36</td>\n",
              "      <td>0.857143</td>\n",
              "    </tr>\n",
              "    <tr>\n",
              "      <th>4</th>\n",
              "      <td>5</td>\n",
              "      <td>10005</td>\n",
              "      <td>0</td>\n",
              "      <td>25</td>\n",
              "      <td>1</td>\n",
              "      <td>0</td>\n",
              "      <td>0</td>\n",
              "      <td>0</td>\n",
              "      <td>0</td>\n",
              "      <td>0</td>\n",
              "      <td>...</td>\n",
              "      <td>161.0</td>\n",
              "      <td>20.060954</td>\n",
              "      <td>11</td>\n",
              "      <td>72</td>\n",
              "      <td>1</td>\n",
              "      <td>5</td>\n",
              "      <td>1.0</td>\n",
              "      <td>37</td>\n",
              "      <td>30</td>\n",
              "      <td>0.810811</td>\n",
              "    </tr>\n",
              "    <tr>\n",
              "      <th>5</th>\n",
              "      <td>6</td>\n",
              "      <td>10006</td>\n",
              "      <td>0</td>\n",
              "      <td>36</td>\n",
              "      <td>1</td>\n",
              "      <td>0</td>\n",
              "      <td>0</td>\n",
              "      <td>0</td>\n",
              "      <td>0</td>\n",
              "      <td>0</td>\n",
              "      <td>...</td>\n",
              "      <td>165.0</td>\n",
              "      <td>27.217631</td>\n",
              "      <td>15</td>\n",
              "      <td>78</td>\n",
              "      <td>1</td>\n",
              "      <td>5</td>\n",
              "      <td>8.0</td>\n",
              "      <td>44</td>\n",
              "      <td>38</td>\n",
              "      <td>0.863636</td>\n",
              "    </tr>\n",
              "    <tr>\n",
              "      <th>6</th>\n",
              "      <td>7</td>\n",
              "      <td>10007</td>\n",
              "      <td>0</td>\n",
              "      <td>34</td>\n",
              "      <td>0</td>\n",
              "      <td>0</td>\n",
              "      <td>0</td>\n",
              "      <td>0</td>\n",
              "      <td>0</td>\n",
              "      <td>0</td>\n",
              "      <td>...</td>\n",
              "      <td>156.0</td>\n",
              "      <td>26.298488</td>\n",
              "      <td>11</td>\n",
              "      <td>72</td>\n",
              "      <td>1</td>\n",
              "      <td>5</td>\n",
              "      <td>2.0</td>\n",
              "      <td>39</td>\n",
              "      <td>33</td>\n",
              "      <td>0.846154</td>\n",
              "    </tr>\n",
              "    <tr>\n",
              "      <th>7</th>\n",
              "      <td>8</td>\n",
              "      <td>10008</td>\n",
              "      <td>0</td>\n",
              "      <td>33</td>\n",
              "      <td>1</td>\n",
              "      <td>2</td>\n",
              "      <td>0</td>\n",
              "      <td>0</td>\n",
              "      <td>0</td>\n",
              "      <td>0</td>\n",
              "      <td>...</td>\n",
              "      <td>159.0</td>\n",
              "      <td>23.139907</td>\n",
              "      <td>13</td>\n",
              "      <td>72</td>\n",
              "      <td>1</td>\n",
              "      <td>5</td>\n",
              "      <td>13.0</td>\n",
              "      <td>44</td>\n",
              "      <td>38</td>\n",
              "      <td>0.863636</td>\n",
              "    </tr>\n",
              "    <tr>\n",
              "      <th>8</th>\n",
              "      <td>9</td>\n",
              "      <td>10009</td>\n",
              "      <td>0</td>\n",
              "      <td>32</td>\n",
              "      <td>0</td>\n",
              "      <td>1</td>\n",
              "      <td>0</td>\n",
              "      <td>0</td>\n",
              "      <td>0</td>\n",
              "      <td>0</td>\n",
              "      <td>...</td>\n",
              "      <td>158.0</td>\n",
              "      <td>16.023073</td>\n",
              "      <td>11</td>\n",
              "      <td>72</td>\n",
              "      <td>1</td>\n",
              "      <td>5</td>\n",
              "      <td>8.0</td>\n",
              "      <td>39</td>\n",
              "      <td>35</td>\n",
              "      <td>0.897436</td>\n",
              "    </tr>\n",
              "    <tr>\n",
              "      <th>9</th>\n",
              "      <td>10</td>\n",
              "      <td>10010</td>\n",
              "      <td>0</td>\n",
              "      <td>36</td>\n",
              "      <td>0</td>\n",
              "      <td>0</td>\n",
              "      <td>0</td>\n",
              "      <td>0</td>\n",
              "      <td>0</td>\n",
              "      <td>0</td>\n",
              "      <td>...</td>\n",
              "      <td>150.0</td>\n",
              "      <td>23.111111</td>\n",
              "      <td>15</td>\n",
              "      <td>80</td>\n",
              "      <td>1</td>\n",
              "      <td>2</td>\n",
              "      <td>4.0</td>\n",
              "      <td>40</td>\n",
              "      <td>38</td>\n",
              "      <td>0.950000</td>\n",
              "    </tr>\n",
              "  </tbody>\n",
              "</table>\n",
              "<p>10 rows × 31 columns</p>\n",
              "</div>\n",
              "      <button class=\"colab-df-convert\" onclick=\"convertToInteractive('df-9123ebe1-1476-49be-9f86-7d8003935c05')\"\n",
              "              title=\"Convert this dataframe to an interactive table.\"\n",
              "              style=\"display:none;\">\n",
              "        \n",
              "  <svg xmlns=\"http://www.w3.org/2000/svg\" height=\"24px\"viewBox=\"0 0 24 24\"\n",
              "       width=\"24px\">\n",
              "    <path d=\"M0 0h24v24H0V0z\" fill=\"none\"/>\n",
              "    <path d=\"M18.56 5.44l.94 2.06.94-2.06 2.06-.94-2.06-.94-.94-2.06-.94 2.06-2.06.94zm-11 1L8.5 8.5l.94-2.06 2.06-.94-2.06-.94L8.5 2.5l-.94 2.06-2.06.94zm10 10l.94 2.06.94-2.06 2.06-.94-2.06-.94-.94-2.06-.94 2.06-2.06.94z\"/><path d=\"M17.41 7.96l-1.37-1.37c-.4-.4-.92-.59-1.43-.59-.52 0-1.04.2-1.43.59L10.3 9.45l-7.72 7.72c-.78.78-.78 2.05 0 2.83L4 21.41c.39.39.9.59 1.41.59.51 0 1.02-.2 1.41-.59l7.78-7.78 2.81-2.81c.8-.78.8-2.07 0-2.86zM5.41 20L4 18.59l7.72-7.72 1.47 1.35L5.41 20z\"/>\n",
              "  </svg>\n",
              "      </button>\n",
              "      \n",
              "  <style>\n",
              "    .colab-df-container {\n",
              "      display:flex;\n",
              "      flex-wrap:wrap;\n",
              "      gap: 12px;\n",
              "    }\n",
              "\n",
              "    .colab-df-convert {\n",
              "      background-color: #E8F0FE;\n",
              "      border: none;\n",
              "      border-radius: 50%;\n",
              "      cursor: pointer;\n",
              "      display: none;\n",
              "      fill: #1967D2;\n",
              "      height: 32px;\n",
              "      padding: 0 0 0 0;\n",
              "      width: 32px;\n",
              "    }\n",
              "\n",
              "    .colab-df-convert:hover {\n",
              "      background-color: #E2EBFA;\n",
              "      box-shadow: 0px 1px 2px rgba(60, 64, 67, 0.3), 0px 1px 3px 1px rgba(60, 64, 67, 0.15);\n",
              "      fill: #174EA6;\n",
              "    }\n",
              "\n",
              "    [theme=dark] .colab-df-convert {\n",
              "      background-color: #3B4455;\n",
              "      fill: #D2E3FC;\n",
              "    }\n",
              "\n",
              "    [theme=dark] .colab-df-convert:hover {\n",
              "      background-color: #434B5C;\n",
              "      box-shadow: 0px 1px 3px 1px rgba(0, 0, 0, 0.15);\n",
              "      filter: drop-shadow(0px 1px 2px rgba(0, 0, 0, 0.3));\n",
              "      fill: #FFFFFF;\n",
              "    }\n",
              "  </style>\n",
              "\n",
              "      <script>\n",
              "        const buttonEl =\n",
              "          document.querySelector('#df-9123ebe1-1476-49be-9f86-7d8003935c05 button.colab-df-convert');\n",
              "        buttonEl.style.display =\n",
              "          google.colab.kernel.accessAllowed ? 'block' : 'none';\n",
              "\n",
              "        async function convertToInteractive(key) {\n",
              "          const element = document.querySelector('#df-9123ebe1-1476-49be-9f86-7d8003935c05');\n",
              "          const dataTable =\n",
              "            await google.colab.kernel.invokeFunction('convertToInteractive',\n",
              "                                                     [key], {});\n",
              "          if (!dataTable) return;\n",
              "\n",
              "          const docLinkHtml = 'Like what you see? Visit the ' +\n",
              "            '<a target=\"_blank\" href=https://colab.research.google.com/notebooks/data_table.ipynb>data table notebook</a>'\n",
              "            + ' to learn more about interactive tables.';\n",
              "          element.innerHTML = '';\n",
              "          dataTable['output_type'] = 'display_data';\n",
              "          await google.colab.output.renderOutput(dataTable, element);\n",
              "          const docLink = document.createElement('div');\n",
              "          docLink.innerHTML = docLinkHtml;\n",
              "          element.appendChild(docLink);\n",
              "        }\n",
              "      </script>\n",
              "    </div>\n",
              "  </div>\n",
              "  "
            ]
          },
          "metadata": {},
          "execution_count": 8
        }
      ]
    },
    {
      "cell_type": "markdown",
      "source": [
        "### info of dataset\n"
      ],
      "metadata": {
        "id": "9X14HWGsX5hD"
      }
    },
    {
      "cell_type": "code",
      "source": [
        "df.info()"
      ],
      "metadata": {
        "colab": {
          "base_uri": "https://localhost:8080/"
        },
        "id": "U4KshY2AW-5l",
        "outputId": "bb644495-9385-4f91-a8dc-844c331f5f08"
      },
      "execution_count": 9,
      "outputs": [
        {
          "output_type": "stream",
          "name": "stdout",
          "text": [
            "<class 'pandas.core.frame.DataFrame'>\n",
            "RangeIndex: 541 entries, 0 to 540\n",
            "Data columns (total 31 columns):\n",
            " #   Column                     Non-Null Count  Dtype  \n",
            "---  ------                     --------------  -----  \n",
            " 0   Sl No                      541 non-null    int64  \n",
            " 1   Patient File No            541 non-null    int64  \n",
            " 2   PCOS (Y/N)                 541 non-null    int64  \n",
            " 3    Age (yrs)                 541 non-null    int64  \n",
            " 4   Pregnant(Y/N)              541 non-null    int64  \n",
            " 5   No of aborptions           541 non-null    int64  \n",
            " 6   Bloated                    541 non-null    int64  \n",
            " 7   facial hair                541 non-null    int64  \n",
            " 8   chest hair                 541 non-null    int64  \n",
            " 9   difficult to loose weight  541 non-null    int64  \n",
            " 10  mood swings                541 non-null    int64  \n",
            " 11  anxiety/depression/stress  541 non-null    int64  \n",
            " 12  Irregular_sleep            541 non-null    int64  \n",
            " 13  Weight gain(Y/N)           541 non-null    int64  \n",
            " 14  hair growth(Y/N)           541 non-null    int64  \n",
            " 15  Skin darkening (Y/N)       541 non-null    int64  \n",
            " 16  Hair loss(Y/N)             541 non-null    int64  \n",
            " 17  Pimples(Y/N)               541 non-null    int64  \n",
            " 18  Fast food (Y/N)            541 non-null    int64  \n",
            " 19  Reg Exercise(Y/N)          541 non-null    int64  \n",
            " 20  Weight (Kg)                541 non-null    float64\n",
            " 21  Height(Cm)                 541 non-null    float64\n",
            " 22  BMI                        541 non-null    float64\n",
            " 23  Blood Group                541 non-null    int64  \n",
            " 24  Pulse rate(bpm)            541 non-null    int64  \n",
            " 25  Cycle(months)              541 non-null    int64  \n",
            " 26  Cycle length(days)         541 non-null    int64  \n",
            " 27  Marriage Status (Yrs)      541 non-null    float64\n",
            " 28  Hip(inch)                  541 non-null    int64  \n",
            " 29  Waist(inch)                541 non-null    int64  \n",
            " 30  Waist/Hip Ratio            541 non-null    float64\n",
            "dtypes: float64(5), int64(26)\n",
            "memory usage: 131.1 KB\n"
          ]
        }
      ]
    },
    {
      "cell_type": "code",
      "source": [
        "df.isnull().sum() # checking for null values"
      ],
      "metadata": {
        "colab": {
          "base_uri": "https://localhost:8080/"
        },
        "id": "am7CsBsvYII8",
        "outputId": "e5edad22-6314-48f6-bf82-d811b2b42133"
      },
      "execution_count": 10,
      "outputs": [
        {
          "output_type": "execute_result",
          "data": {
            "text/plain": [
              "Sl No                        0\n",
              "Patient File No              0\n",
              "PCOS (Y/N)                   0\n",
              " Age (yrs)                   0\n",
              "Pregnant(Y/N)                0\n",
              "No of aborptions             0\n",
              "Bloated                      0\n",
              "facial hair                  0\n",
              "chest hair                   0\n",
              "difficult to loose weight    0\n",
              "mood swings                  0\n",
              "anxiety/depression/stress    0\n",
              "Irregular_sleep              0\n",
              "Weight gain(Y/N)             0\n",
              "hair growth(Y/N)             0\n",
              "Skin darkening (Y/N)         0\n",
              "Hair loss(Y/N)               0\n",
              "Pimples(Y/N)                 0\n",
              "Fast food (Y/N)              0\n",
              "Reg Exercise(Y/N)            0\n",
              "Weight (Kg)                  0\n",
              "Height(Cm)                   0\n",
              "BMI                          0\n",
              "Blood Group                  0\n",
              "Pulse rate(bpm)              0\n",
              "Cycle(months)                0\n",
              "Cycle length(days)           0\n",
              "Marriage Status (Yrs)        0\n",
              "Hip(inch)                    0\n",
              "Waist(inch)                  0\n",
              "Waist/Hip Ratio              0\n",
              "dtype: int64"
            ]
          },
          "metadata": {},
          "execution_count": 10
        }
      ]
    },
    {
      "cell_type": "code",
      "source": [
        "df.describe() #statistical data for each numerical column"
      ],
      "metadata": {
        "colab": {
          "base_uri": "https://localhost:8080/",
          "height": 428
        },
        "id": "uoVLSc4uYN7H",
        "outputId": "ed440d76-10c0-4c80-9c12-80102471c602"
      },
      "execution_count": 11,
      "outputs": [
        {
          "output_type": "execute_result",
          "data": {
            "text/plain": [
              "            Sl No  Patient File No  PCOS (Y/N)   Age (yrs)  Pregnant(Y/N)  \\\n",
              "count  541.000000       541.000000  541.000000  541.000000     541.000000   \n",
              "mean   271.000000     10271.000000    0.327172   31.430684       0.380776   \n",
              "std    156.317519       156.317519    0.469615    5.411006       0.486027   \n",
              "min      1.000000     10001.000000    0.000000   20.000000       0.000000   \n",
              "25%    136.000000     10136.000000    0.000000   28.000000       0.000000   \n",
              "50%    271.000000     10271.000000    0.000000   31.000000       0.000000   \n",
              "75%    406.000000     10406.000000    1.000000   35.000000       1.000000   \n",
              "max    541.000000     10541.000000    1.000000   48.000000       1.000000   \n",
              "\n",
              "       No of aborptions     Bloated  facial hair  chest hair  \\\n",
              "count        541.000000  541.000000   541.000000  541.000000   \n",
              "mean           0.288355    0.369686     0.321627    0.240296   \n",
              "std            0.692575    0.483166     0.467533    0.427658   \n",
              "min            0.000000    0.000000     0.000000    0.000000   \n",
              "25%            0.000000    0.000000     0.000000    0.000000   \n",
              "50%            0.000000    0.000000     0.000000    0.000000   \n",
              "75%            0.000000    1.000000     1.000000    0.000000   \n",
              "max            5.000000    1.000000     1.000000    1.000000   \n",
              "\n",
              "       difficult to loose weight  ...  Height(Cm)          BMI  Blood Group  \\\n",
              "count                 541.000000  ...   541.000000  541.000000   541.000000   \n",
              "mean                    0.380776  ...   156.484835   24.311285    13.802218   \n",
              "std                     0.486027  ...     6.033545    4.056399     1.840812   \n",
              "min                     0.000000  ...   137.000000   12.417882    11.000000   \n",
              "25%                     0.000000  ...   152.000000   21.641274    13.000000   \n",
              "50%                     0.000000  ...   156.000000   24.238227    14.000000   \n",
              "75%                     1.000000  ...   160.000000   26.634958    15.000000   \n",
              "max                     1.000000  ...   180.000000   38.900000    18.000000   \n",
              "\n",
              "       Pulse rate(bpm)   Cycle(months)  Cycle length(days)  \\\n",
              "count        541.000000     541.000000           541.00000   \n",
              "mean          73.247689       1.720887             4.94085   \n",
              "std            4.430285       1.135989             1.49202   \n",
              "min           13.000000       1.000000             0.00000   \n",
              "25%           72.000000       1.000000             4.00000   \n",
              "50%           72.000000       1.000000             5.00000   \n",
              "75%           74.000000       2.000000             5.00000   \n",
              "max           82.000000       5.000000            12.00000   \n",
              "\n",
              "       Marriage Status (Yrs)   Hip(inch)  Waist(inch)  Waist/Hip Ratio  \n",
              "count             541.000000  541.000000   541.000000       541.000000  \n",
              "mean                7.666728   37.992606    33.841035         0.891895  \n",
              "std                 4.810733    3.967920     3.596894         0.046326  \n",
              "min                 0.000000   26.000000    24.000000         0.755556  \n",
              "25%                 4.000000   36.000000    32.000000         0.857143  \n",
              "50%                 7.000000   38.000000    34.000000         0.894737  \n",
              "75%                10.000000   40.000000    36.000000         0.928571  \n",
              "max                30.000000   48.000000    47.000000         0.979167  \n",
              "\n",
              "[8 rows x 31 columns]"
            ],
            "text/html": [
              "\n",
              "  <div id=\"df-ef9e57bc-c5a6-44c5-bbb9-7f0ad8ef1e36\">\n",
              "    <div class=\"colab-df-container\">\n",
              "      <div>\n",
              "<style scoped>\n",
              "    .dataframe tbody tr th:only-of-type {\n",
              "        vertical-align: middle;\n",
              "    }\n",
              "\n",
              "    .dataframe tbody tr th {\n",
              "        vertical-align: top;\n",
              "    }\n",
              "\n",
              "    .dataframe thead th {\n",
              "        text-align: right;\n",
              "    }\n",
              "</style>\n",
              "<table border=\"1\" class=\"dataframe\">\n",
              "  <thead>\n",
              "    <tr style=\"text-align: right;\">\n",
              "      <th></th>\n",
              "      <th>Sl No</th>\n",
              "      <th>Patient File No</th>\n",
              "      <th>PCOS (Y/N)</th>\n",
              "      <th>Age (yrs)</th>\n",
              "      <th>Pregnant(Y/N)</th>\n",
              "      <th>No of aborptions</th>\n",
              "      <th>Bloated</th>\n",
              "      <th>facial hair</th>\n",
              "      <th>chest hair</th>\n",
              "      <th>difficult to loose weight</th>\n",
              "      <th>...</th>\n",
              "      <th>Height(Cm)</th>\n",
              "      <th>BMI</th>\n",
              "      <th>Blood Group</th>\n",
              "      <th>Pulse rate(bpm)</th>\n",
              "      <th>Cycle(months)</th>\n",
              "      <th>Cycle length(days)</th>\n",
              "      <th>Marriage Status (Yrs)</th>\n",
              "      <th>Hip(inch)</th>\n",
              "      <th>Waist(inch)</th>\n",
              "      <th>Waist/Hip Ratio</th>\n",
              "    </tr>\n",
              "  </thead>\n",
              "  <tbody>\n",
              "    <tr>\n",
              "      <th>count</th>\n",
              "      <td>541.000000</td>\n",
              "      <td>541.000000</td>\n",
              "      <td>541.000000</td>\n",
              "      <td>541.000000</td>\n",
              "      <td>541.000000</td>\n",
              "      <td>541.000000</td>\n",
              "      <td>541.000000</td>\n",
              "      <td>541.000000</td>\n",
              "      <td>541.000000</td>\n",
              "      <td>541.000000</td>\n",
              "      <td>...</td>\n",
              "      <td>541.000000</td>\n",
              "      <td>541.000000</td>\n",
              "      <td>541.000000</td>\n",
              "      <td>541.000000</td>\n",
              "      <td>541.000000</td>\n",
              "      <td>541.00000</td>\n",
              "      <td>541.000000</td>\n",
              "      <td>541.000000</td>\n",
              "      <td>541.000000</td>\n",
              "      <td>541.000000</td>\n",
              "    </tr>\n",
              "    <tr>\n",
              "      <th>mean</th>\n",
              "      <td>271.000000</td>\n",
              "      <td>10271.000000</td>\n",
              "      <td>0.327172</td>\n",
              "      <td>31.430684</td>\n",
              "      <td>0.380776</td>\n",
              "      <td>0.288355</td>\n",
              "      <td>0.369686</td>\n",
              "      <td>0.321627</td>\n",
              "      <td>0.240296</td>\n",
              "      <td>0.380776</td>\n",
              "      <td>...</td>\n",
              "      <td>156.484835</td>\n",
              "      <td>24.311285</td>\n",
              "      <td>13.802218</td>\n",
              "      <td>73.247689</td>\n",
              "      <td>1.720887</td>\n",
              "      <td>4.94085</td>\n",
              "      <td>7.666728</td>\n",
              "      <td>37.992606</td>\n",
              "      <td>33.841035</td>\n",
              "      <td>0.891895</td>\n",
              "    </tr>\n",
              "    <tr>\n",
              "      <th>std</th>\n",
              "      <td>156.317519</td>\n",
              "      <td>156.317519</td>\n",
              "      <td>0.469615</td>\n",
              "      <td>5.411006</td>\n",
              "      <td>0.486027</td>\n",
              "      <td>0.692575</td>\n",
              "      <td>0.483166</td>\n",
              "      <td>0.467533</td>\n",
              "      <td>0.427658</td>\n",
              "      <td>0.486027</td>\n",
              "      <td>...</td>\n",
              "      <td>6.033545</td>\n",
              "      <td>4.056399</td>\n",
              "      <td>1.840812</td>\n",
              "      <td>4.430285</td>\n",
              "      <td>1.135989</td>\n",
              "      <td>1.49202</td>\n",
              "      <td>4.810733</td>\n",
              "      <td>3.967920</td>\n",
              "      <td>3.596894</td>\n",
              "      <td>0.046326</td>\n",
              "    </tr>\n",
              "    <tr>\n",
              "      <th>min</th>\n",
              "      <td>1.000000</td>\n",
              "      <td>10001.000000</td>\n",
              "      <td>0.000000</td>\n",
              "      <td>20.000000</td>\n",
              "      <td>0.000000</td>\n",
              "      <td>0.000000</td>\n",
              "      <td>0.000000</td>\n",
              "      <td>0.000000</td>\n",
              "      <td>0.000000</td>\n",
              "      <td>0.000000</td>\n",
              "      <td>...</td>\n",
              "      <td>137.000000</td>\n",
              "      <td>12.417882</td>\n",
              "      <td>11.000000</td>\n",
              "      <td>13.000000</td>\n",
              "      <td>1.000000</td>\n",
              "      <td>0.00000</td>\n",
              "      <td>0.000000</td>\n",
              "      <td>26.000000</td>\n",
              "      <td>24.000000</td>\n",
              "      <td>0.755556</td>\n",
              "    </tr>\n",
              "    <tr>\n",
              "      <th>25%</th>\n",
              "      <td>136.000000</td>\n",
              "      <td>10136.000000</td>\n",
              "      <td>0.000000</td>\n",
              "      <td>28.000000</td>\n",
              "      <td>0.000000</td>\n",
              "      <td>0.000000</td>\n",
              "      <td>0.000000</td>\n",
              "      <td>0.000000</td>\n",
              "      <td>0.000000</td>\n",
              "      <td>0.000000</td>\n",
              "      <td>...</td>\n",
              "      <td>152.000000</td>\n",
              "      <td>21.641274</td>\n",
              "      <td>13.000000</td>\n",
              "      <td>72.000000</td>\n",
              "      <td>1.000000</td>\n",
              "      <td>4.00000</td>\n",
              "      <td>4.000000</td>\n",
              "      <td>36.000000</td>\n",
              "      <td>32.000000</td>\n",
              "      <td>0.857143</td>\n",
              "    </tr>\n",
              "    <tr>\n",
              "      <th>50%</th>\n",
              "      <td>271.000000</td>\n",
              "      <td>10271.000000</td>\n",
              "      <td>0.000000</td>\n",
              "      <td>31.000000</td>\n",
              "      <td>0.000000</td>\n",
              "      <td>0.000000</td>\n",
              "      <td>0.000000</td>\n",
              "      <td>0.000000</td>\n",
              "      <td>0.000000</td>\n",
              "      <td>0.000000</td>\n",
              "      <td>...</td>\n",
              "      <td>156.000000</td>\n",
              "      <td>24.238227</td>\n",
              "      <td>14.000000</td>\n",
              "      <td>72.000000</td>\n",
              "      <td>1.000000</td>\n",
              "      <td>5.00000</td>\n",
              "      <td>7.000000</td>\n",
              "      <td>38.000000</td>\n",
              "      <td>34.000000</td>\n",
              "      <td>0.894737</td>\n",
              "    </tr>\n",
              "    <tr>\n",
              "      <th>75%</th>\n",
              "      <td>406.000000</td>\n",
              "      <td>10406.000000</td>\n",
              "      <td>1.000000</td>\n",
              "      <td>35.000000</td>\n",
              "      <td>1.000000</td>\n",
              "      <td>0.000000</td>\n",
              "      <td>1.000000</td>\n",
              "      <td>1.000000</td>\n",
              "      <td>0.000000</td>\n",
              "      <td>1.000000</td>\n",
              "      <td>...</td>\n",
              "      <td>160.000000</td>\n",
              "      <td>26.634958</td>\n",
              "      <td>15.000000</td>\n",
              "      <td>74.000000</td>\n",
              "      <td>2.000000</td>\n",
              "      <td>5.00000</td>\n",
              "      <td>10.000000</td>\n",
              "      <td>40.000000</td>\n",
              "      <td>36.000000</td>\n",
              "      <td>0.928571</td>\n",
              "    </tr>\n",
              "    <tr>\n",
              "      <th>max</th>\n",
              "      <td>541.000000</td>\n",
              "      <td>10541.000000</td>\n",
              "      <td>1.000000</td>\n",
              "      <td>48.000000</td>\n",
              "      <td>1.000000</td>\n",
              "      <td>5.000000</td>\n",
              "      <td>1.000000</td>\n",
              "      <td>1.000000</td>\n",
              "      <td>1.000000</td>\n",
              "      <td>1.000000</td>\n",
              "      <td>...</td>\n",
              "      <td>180.000000</td>\n",
              "      <td>38.900000</td>\n",
              "      <td>18.000000</td>\n",
              "      <td>82.000000</td>\n",
              "      <td>5.000000</td>\n",
              "      <td>12.00000</td>\n",
              "      <td>30.000000</td>\n",
              "      <td>48.000000</td>\n",
              "      <td>47.000000</td>\n",
              "      <td>0.979167</td>\n",
              "    </tr>\n",
              "  </tbody>\n",
              "</table>\n",
              "<p>8 rows × 31 columns</p>\n",
              "</div>\n",
              "      <button class=\"colab-df-convert\" onclick=\"convertToInteractive('df-ef9e57bc-c5a6-44c5-bbb9-7f0ad8ef1e36')\"\n",
              "              title=\"Convert this dataframe to an interactive table.\"\n",
              "              style=\"display:none;\">\n",
              "        \n",
              "  <svg xmlns=\"http://www.w3.org/2000/svg\" height=\"24px\"viewBox=\"0 0 24 24\"\n",
              "       width=\"24px\">\n",
              "    <path d=\"M0 0h24v24H0V0z\" fill=\"none\"/>\n",
              "    <path d=\"M18.56 5.44l.94 2.06.94-2.06 2.06-.94-2.06-.94-.94-2.06-.94 2.06-2.06.94zm-11 1L8.5 8.5l.94-2.06 2.06-.94-2.06-.94L8.5 2.5l-.94 2.06-2.06.94zm10 10l.94 2.06.94-2.06 2.06-.94-2.06-.94-.94-2.06-.94 2.06-2.06.94z\"/><path d=\"M17.41 7.96l-1.37-1.37c-.4-.4-.92-.59-1.43-.59-.52 0-1.04.2-1.43.59L10.3 9.45l-7.72 7.72c-.78.78-.78 2.05 0 2.83L4 21.41c.39.39.9.59 1.41.59.51 0 1.02-.2 1.41-.59l7.78-7.78 2.81-2.81c.8-.78.8-2.07 0-2.86zM5.41 20L4 18.59l7.72-7.72 1.47 1.35L5.41 20z\"/>\n",
              "  </svg>\n",
              "      </button>\n",
              "      \n",
              "  <style>\n",
              "    .colab-df-container {\n",
              "      display:flex;\n",
              "      flex-wrap:wrap;\n",
              "      gap: 12px;\n",
              "    }\n",
              "\n",
              "    .colab-df-convert {\n",
              "      background-color: #E8F0FE;\n",
              "      border: none;\n",
              "      border-radius: 50%;\n",
              "      cursor: pointer;\n",
              "      display: none;\n",
              "      fill: #1967D2;\n",
              "      height: 32px;\n",
              "      padding: 0 0 0 0;\n",
              "      width: 32px;\n",
              "    }\n",
              "\n",
              "    .colab-df-convert:hover {\n",
              "      background-color: #E2EBFA;\n",
              "      box-shadow: 0px 1px 2px rgba(60, 64, 67, 0.3), 0px 1px 3px 1px rgba(60, 64, 67, 0.15);\n",
              "      fill: #174EA6;\n",
              "    }\n",
              "\n",
              "    [theme=dark] .colab-df-convert {\n",
              "      background-color: #3B4455;\n",
              "      fill: #D2E3FC;\n",
              "    }\n",
              "\n",
              "    [theme=dark] .colab-df-convert:hover {\n",
              "      background-color: #434B5C;\n",
              "      box-shadow: 0px 1px 3px 1px rgba(0, 0, 0, 0.15);\n",
              "      filter: drop-shadow(0px 1px 2px rgba(0, 0, 0, 0.3));\n",
              "      fill: #FFFFFF;\n",
              "    }\n",
              "  </style>\n",
              "\n",
              "      <script>\n",
              "        const buttonEl =\n",
              "          document.querySelector('#df-ef9e57bc-c5a6-44c5-bbb9-7f0ad8ef1e36 button.colab-df-convert');\n",
              "        buttonEl.style.display =\n",
              "          google.colab.kernel.accessAllowed ? 'block' : 'none';\n",
              "\n",
              "        async function convertToInteractive(key) {\n",
              "          const element = document.querySelector('#df-ef9e57bc-c5a6-44c5-bbb9-7f0ad8ef1e36');\n",
              "          const dataTable =\n",
              "            await google.colab.kernel.invokeFunction('convertToInteractive',\n",
              "                                                     [key], {});\n",
              "          if (!dataTable) return;\n",
              "\n",
              "          const docLinkHtml = 'Like what you see? Visit the ' +\n",
              "            '<a target=\"_blank\" href=https://colab.research.google.com/notebooks/data_table.ipynb>data table notebook</a>'\n",
              "            + ' to learn more about interactive tables.';\n",
              "          element.innerHTML = '';\n",
              "          dataTable['output_type'] = 'display_data';\n",
              "          await google.colab.output.renderOutput(dataTable, element);\n",
              "          const docLink = document.createElement('div');\n",
              "          docLink.innerHTML = docLinkHtml;\n",
              "          element.appendChild(docLink);\n",
              "        }\n",
              "      </script>\n",
              "    </div>\n",
              "  </div>\n",
              "  "
            ]
          },
          "metadata": {},
          "execution_count": 11
        }
      ]
    },
    {
      "cell_type": "markdown",
      "source": [
        "### dropping the unecessary columns"
      ],
      "metadata": {
        "id": "8b83kstUZwNh"
      }
    },
    {
      "cell_type": "code",
      "source": [
        "train = df.drop(columns = [\"Sl No\", \"Patient File No\", \"PCOS (Y/N)\"], axis = 1 )\n",
        "#  adding inplace = true drops the columns from original dataframe,and if not used, it creates a new dataframe\n"
      ],
      "metadata": {
        "colab": {
          "base_uri": "https://localhost:8080/"
        },
        "id": "uoNwYElYYsZy",
        "outputId": "9e5c3779-4caa-49af-abfe-ec2792c891f5"
      },
      "execution_count": 39,
      "outputs": [
        {
          "output_type": "stream",
          "name": "stdout",
          "text": [
            "      Age (yrs)  Pregnant(Y/N)  No of aborptions  Bloated  facial hair  \\\n",
            "0            28              0                 0        0            0   \n",
            "1            36              1                 0        0            0   \n",
            "2            33              1                 0        1            1   \n",
            "3            37              0                 0        0            0   \n",
            "4            25              1                 0        0            0   \n",
            "..          ...            ...               ...      ...          ...   \n",
            "536          35              0                 1        0            1   \n",
            "537          30              1                 1        0            1   \n",
            "538          36              0                 0        0            1   \n",
            "539          27              0                 0        0            1   \n",
            "540          23              0                 0        1            0   \n",
            "\n",
            "     chest hair  difficult to loose weight  mood swings  \\\n",
            "0             0                          0            0   \n",
            "1             0                          0            0   \n",
            "2             1                          1            1   \n",
            "3             0                          0            0   \n",
            "4             0                          0            0   \n",
            "..          ...                        ...          ...   \n",
            "536           0                          0            0   \n",
            "537           0                          0            0   \n",
            "538           0                          0            0   \n",
            "539           0                          0            0   \n",
            "540           0                          1            1   \n",
            "\n",
            "     anxiety/depression/stress  Irregular_sleep  ...  Height(Cm)         BMI  \\\n",
            "0                            1                0  ...      152.000  19.300000   \n",
            "1                            1                0  ...      161.500  24.921163   \n",
            "2                            1                1  ...      165.000  25.270891   \n",
            "3                            1                0  ...      148.000  29.674945   \n",
            "4                            1                0  ...      161.000  20.060954   \n",
            "..                         ...              ...  ...          ...        ...   \n",
            "536                          1                0  ...      164.592  18.500000   \n",
            "537                          1                0  ...      158.000  25.300000   \n",
            "538                          1                0  ...      152.000  23.400000   \n",
            "539                          1                0  ...      150.000  22.200000   \n",
            "540                          1                1  ...      165.000  30.100000   \n",
            "\n",
            "     Blood Group  Pulse rate(bpm)   Cycle(months)  Cycle length(days)  \\\n",
            "0             15                78              1                   5   \n",
            "1             15                74              1                   5   \n",
            "2             11                72              2                   5   \n",
            "3             13                72              1                   5   \n",
            "4             11                72              1                   5   \n",
            "..           ...               ...            ...                 ...   \n",
            "536           17                72              2                   5   \n",
            "537           15                72              2                   5   \n",
            "538           13                74              2                   6   \n",
            "539           15                74              4                   2   \n",
            "540           13                80              4                   7   \n",
            "\n",
            "     Marriage Status (Yrs)  Hip(inch)  Waist(inch)  Waist/Hip Ratio  \n",
            "0                      7.0         36           30         0.833333  \n",
            "1                     11.0         38           32         0.842105  \n",
            "2                     10.0         40           36         0.900000  \n",
            "3                      4.0         42           36         0.857143  \n",
            "4                      1.0         37           30         0.810811  \n",
            "..                     ...        ...          ...              ...  \n",
            "536                    8.0         28           26         0.928571  \n",
            "537                    4.0         34           32         0.941176  \n",
            "538                    8.0         30           28         0.933333  \n",
            "539                    2.0         28           26         0.928571  \n",
            "540                    2.0         48           46         0.958333  \n",
            "\n",
            "[541 rows x 28 columns]\n"
          ]
        }
      ]
    },
    {
      "cell_type": "code",
      "source": [
        "df.columns\n"
      ],
      "metadata": {
        "colab": {
          "base_uri": "https://localhost:8080/"
        },
        "id": "vt0RwISZZpOR",
        "outputId": "5cdd4268-4746-453d-95ff-3056077d81c4"
      },
      "execution_count": 38,
      "outputs": [
        {
          "output_type": "execute_result",
          "data": {
            "text/plain": [
              "Index(['Sl No', 'Patient File No', 'PCOS (Y/N)', ' Age (yrs)', 'Pregnant(Y/N)',\n",
              "       'No of aborptions', 'Bloated', 'facial hair', 'chest hair',\n",
              "       'difficult to loose weight', 'mood swings', 'anxiety/depression/stress',\n",
              "       'Irregular_sleep', 'Weight gain(Y/N)', 'hair growth(Y/N)',\n",
              "       'Skin darkening (Y/N)', 'Hair loss(Y/N)', 'Pimples(Y/N)',\n",
              "       'Fast food (Y/N)', 'Reg Exercise(Y/N)', 'Weight (Kg)', 'Height(Cm) ',\n",
              "       'BMI', 'Blood Group', 'Pulse rate(bpm) ', 'Cycle(months)',\n",
              "       'Cycle length(days)', 'Marriage Status (Yrs)', 'Hip(inch)',\n",
              "       'Waist(inch)', 'Waist/Hip Ratio'],\n",
              "      dtype='object')"
            ]
          },
          "metadata": {},
          "execution_count": 38
        }
      ]
    },
    {
      "cell_type": "markdown",
      "source": [
        "### splitting numerical and categorical columns\n"
      ],
      "metadata": {
        "id": "vEqOZcNiXIZX"
      }
    },
    {
      "cell_type": "code",
      "source": [
        "numerical_cols = [\"No of aborptions\", \"Weight (Kg)\" ,\"Height(Cm) \" ,\"BMI\" ,\"Blood Group\" ,\"Pulse rate(bpm) \" ,\"Cycle(months)\" ,\"Cycle length(days)\" ,\"Marriage Status (Yrs)\" ,\"Hip(inch)\", \"Waist(inch)\", \"Waist/Hip Ratio\"]\n",
        "categorical_cols = list(set(df.columns) - set(numerical_cols)- {\"PCOS (Y/N)\"})"
      ],
      "metadata": {
        "id": "a031H2qCXHZo"
      },
      "execution_count": 14,
      "outputs": []
    },
    {
      "cell_type": "code",
      "source": [
        "numerical_cols\n"
      ],
      "metadata": {
        "colab": {
          "base_uri": "https://localhost:8080/"
        },
        "id": "iFnoToKOZSAt",
        "outputId": "1a886e7c-5ca2-456f-90bd-be862ac0ca29"
      },
      "execution_count": 15,
      "outputs": [
        {
          "output_type": "execute_result",
          "data": {
            "text/plain": [
              "['No of aborptions',\n",
              " 'Weight (Kg)',\n",
              " 'Height(Cm) ',\n",
              " 'BMI',\n",
              " 'Blood Group',\n",
              " 'Pulse rate(bpm) ',\n",
              " 'Cycle(months)',\n",
              " 'Cycle length(days)',\n",
              " 'Marriage Status (Yrs)',\n",
              " 'Hip(inch)',\n",
              " 'Waist(inch)',\n",
              " 'Waist/Hip Ratio']"
            ]
          },
          "metadata": {},
          "execution_count": 15
        }
      ]
    },
    {
      "cell_type": "code",
      "source": [
        "categorical_cols"
      ],
      "metadata": {
        "colab": {
          "base_uri": "https://localhost:8080/"
        },
        "id": "teNx-57AZgDb",
        "outputId": "d7722987-be51-4e28-f0f3-d3acd366d287"
      },
      "execution_count": 16,
      "outputs": [
        {
          "output_type": "execute_result",
          "data": {
            "text/plain": [
              "['Pimples(Y/N)',\n",
              " 'difficult to loose weight',\n",
              " 'Irregular_sleep',\n",
              " 'Weight gain(Y/N)',\n",
              " 'hair growth(Y/N)',\n",
              " 'Bloated',\n",
              " 'Pregnant(Y/N)',\n",
              " 'chest hair',\n",
              " 'anxiety/depression/stress',\n",
              " 'mood swings',\n",
              " 'Reg Exercise(Y/N)',\n",
              " 'Skin darkening (Y/N)',\n",
              " 'Fast food (Y/N)',\n",
              " 'facial hair',\n",
              " ' Age (yrs)',\n",
              " 'Hair loss(Y/N)']"
            ]
          },
          "metadata": {},
          "execution_count": 16
        }
      ]
    },
    {
      "cell_type": "markdown",
      "source": [
        "### splitting data"
      ],
      "metadata": {
        "id": "BiaHrfCRi-As"
      }
    },
    {
      "cell_type": "code",
      "source": [
        "df_train, df_test = train_test_split(train, test_size = 0.2, random_state = 42)"
      ],
      "metadata": {
        "id": "CNoQg9KMdsKz"
      },
      "execution_count": 45,
      "outputs": []
    },
    {
      "cell_type": "code",
      "source": [
        "len(df_train), len(df_test)"
      ],
      "metadata": {
        "id": "8V3kQ17pdsNB",
        "colab": {
          "base_uri": "https://localhost:8080/"
        },
        "outputId": "20b5bf79-878c-4043-890c-9aab8afe5e0c"
      },
      "execution_count": 18,
      "outputs": [
        {
          "output_type": "execute_result",
          "data": {
            "text/plain": [
              "(432, 109)"
            ]
          },
          "metadata": {},
          "execution_count": 18
        }
      ]
    },
    {
      "cell_type": "markdown",
      "source": [
        "### scaling numerical columns\n",
        "this is required because the numerical columns might have data 1 as well as 800. in this case 800 may be considered as outlier. so we need to apply standard scaling to bring all the values in a particular range "
      ],
      "metadata": {
        "id": "HyqXX6EXb-0F"
      }
    },
    {
      "cell_type": "code",
      "source": [
        "scaler = StandardScaler()\n",
        "def get_features_and_target_array(df, numerical_cols, categorical_cols, scaler):\n",
        "  x_numeric_scaled = scaler.fit_transform(df[numerical_cols]) #it will take every data point of numerical column and it will transform it to -1 to 1 range\n",
        "  x_categorical = df[categorical_cols].to_numpy() #categorical cols\n",
        "  x = np.hstack((x_categorical, x_numeric_scaled)) #single array of the above two arrays so that it can directly be added to model\n",
        "  y = df[\"PCOS (Y/N)\"]\n",
        "  return x, y"
      ],
      "metadata": {
        "id": "emAhO5EFdsQ5"
      },
      "execution_count": 19,
      "outputs": []
    },
    {
      "cell_type": "code",
      "source": [
        "x_train, y_train = get_features_and_target_array(df_train, numerical_cols, categorical_cols, scaler)"
      ],
      "metadata": {
        "id": "2JqsR5N1dsUP"
      },
      "execution_count": 20,
      "outputs": []
    },
    {
      "cell_type": "markdown",
      "source": [
        "### train\n",
        "# 1. Logistic Regression"
      ],
      "metadata": {
        "id": "DPw4-gApiHEe"
      }
    },
    {
      "cell_type": "code",
      "source": [
        "clf = LogisticRegression()\n",
        "clf.fit(x_train, y_train)"
      ],
      "metadata": {
        "id": "firr98hLdsXB",
        "colab": {
          "base_uri": "https://localhost:8080/"
        },
        "outputId": "bf7d39d3-6906-4fba-dca0-33c2f2cb3645"
      },
      "execution_count": 21,
      "outputs": [
        {
          "output_type": "stream",
          "name": "stderr",
          "text": [
            "/usr/local/lib/python3.8/dist-packages/sklearn/linear_model/_logistic.py:814: ConvergenceWarning: lbfgs failed to converge (status=1):\n",
            "STOP: TOTAL NO. of ITERATIONS REACHED LIMIT.\n",
            "\n",
            "Increase the number of iterations (max_iter) or scale the data as shown in:\n",
            "    https://scikit-learn.org/stable/modules/preprocessing.html\n",
            "Please also refer to the documentation for alternative solver options:\n",
            "    https://scikit-learn.org/stable/modules/linear_model.html#logistic-regression\n",
            "  n_iter_i = _check_optimize_result(\n"
          ]
        },
        {
          "output_type": "execute_result",
          "data": {
            "text/plain": [
              "LogisticRegression()"
            ]
          },
          "metadata": {},
          "execution_count": 21
        }
      ]
    },
    {
      "cell_type": "code",
      "source": [
        "x_test, y_test = get_features_and_target_array(df_test, numerical_cols, categorical_cols, scaler)"
      ],
      "metadata": {
        "id": "2qJTEyQLdshS"
      },
      "execution_count": 22,
      "outputs": []
    },
    {
      "cell_type": "code",
      "source": [
        "test_pred = clf.predict(x_test)"
      ],
      "metadata": {
        "id": "J27t8dxGiviJ"
      },
      "execution_count": 23,
      "outputs": []
    },
    {
      "cell_type": "code",
      "source": [
        "mean_squared_error(y_test, test_pred)"
      ],
      "metadata": {
        "colab": {
          "base_uri": "https://localhost:8080/"
        },
        "id": "ZeXEQGgAivlU",
        "outputId": "9555cd86-1eda-42f4-fba9-abebe75b75e5"
      },
      "execution_count": 24,
      "outputs": [
        {
          "output_type": "execute_result",
          "data": {
            "text/plain": [
              "0.0"
            ]
          },
          "metadata": {},
          "execution_count": 24
        }
      ]
    },
    {
      "cell_type": "code",
      "source": [
        "accuracy_score(y_test, test_pred)"
      ],
      "metadata": {
        "colab": {
          "base_uri": "https://localhost:8080/"
        },
        "id": "XO7UV6KdivpJ",
        "outputId": "1b98526e-3991-4bdd-ab7f-abaf8a4001d1"
      },
      "execution_count": 25,
      "outputs": [
        {
          "output_type": "execute_result",
          "data": {
            "text/plain": [
              "1.0"
            ]
          },
          "metadata": {},
          "execution_count": 25
        }
      ]
    },
    {
      "cell_type": "code",
      "source": [
        "confusion_matrix(y_test, test_pred)"
      ],
      "metadata": {
        "colab": {
          "base_uri": "https://localhost:8080/"
        },
        "id": "jOjaMgVyivrX",
        "outputId": "2c62bea7-2074-4307-e748-0277718716a5"
      },
      "execution_count": 26,
      "outputs": [
        {
          "output_type": "execute_result",
          "data": {
            "text/plain": [
              "array([[77,  0],\n",
              "       [ 0, 32]])"
            ]
          },
          "metadata": {},
          "execution_count": 26
        }
      ]
    },
    {
      "cell_type": "markdown",
      "source": [
        "# 2. Decision Tree"
      ],
      "metadata": {
        "id": "1LYPgAWikizV"
      }
    },
    {
      "cell_type": "code",
      "source": [
        "dc_clf = DecisionTreeClassifier()\n",
        "dc_clf.fit(x_train, y_train)\n",
        "\n",
        "dlf_pred = dc_clf.predict(x_test)\n",
        "print(mean_squared_error(y_test, dlf_pred))\n",
        "print(accuracy_score(y_test, dlf_pred))"
      ],
      "metadata": {
        "colab": {
          "base_uri": "https://localhost:8080/"
        },
        "id": "LeZ07Er4ko0h",
        "outputId": "6526119d-e5cd-493b-8c46-ccb6319acfd3"
      },
      "execution_count": 27,
      "outputs": [
        {
          "output_type": "stream",
          "name": "stdout",
          "text": [
            "0.0\n",
            "1.0\n"
          ]
        }
      ]
    },
    {
      "cell_type": "markdown",
      "source": [
        "# 3. SVM\n"
      ],
      "metadata": {
        "id": "MVDC26a3niLc"
      }
    },
    {
      "cell_type": "code",
      "source": [
        "svm_clf = SVC()\n",
        "svm_clf.fit(x_train, y_train)\n",
        "x_test = [[1,28,0,0,0,0,0,0,0,1,0,0,0,0,0,1,0,44,152,19.3,15,78,1,5,7,36,30,0.83333]]\n",
        "\n",
        "svm_pred = svm_clf.predict(x_test)\n",
        "print(svm_pred)\n",
        "# print(mean_squared_error(y_test, svm_pred))\n",
        "# print(accuracy_score(y_test, svm_pred))"
      ],
      "metadata": {
        "colab": {
          "base_uri": "https://localhost:8080/"
        },
        "id": "Ku288IPynlhT",
        "outputId": "ca880dcb-ea6b-4d91-80e7-0f60084ac429"
      },
      "execution_count": 47,
      "outputs": [
        {
          "output_type": "stream",
          "name": "stdout",
          "text": [
            "[0]\n"
          ]
        }
      ]
    },
    {
      "cell_type": "code",
      "source": [],
      "metadata": {
        "id": "Mcw4AmVIoaue"
      },
      "execution_count": null,
      "outputs": []
    }
  ]
}